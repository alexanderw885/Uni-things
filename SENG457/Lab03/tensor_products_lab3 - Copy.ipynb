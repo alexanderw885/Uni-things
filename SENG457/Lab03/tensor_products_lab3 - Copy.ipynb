{
  "nbformat": 4,
  "nbformat_minor": 0,
  "metadata": {
    "colab": {
      "provenance": []
    },
    "kernelspec": {
      "name": "python3",
      "display_name": "Python 3"
    },
    "language_info": {
      "name": "python"
    }
  },
  "cells": [
    {
      "cell_type": "markdown",
      "source": [
        "# Tensor Product of Qubit States using NumPy\n",
        "\n",
        "We demonstrate how to compute the tensor product (Kronecker product) of single-qubit states using numpy`.\n",
        "\n",
        "\n",
        "\n"
      ],
      "metadata": {
        "id": "dSAZyUnu32OM"
      }
    },
    {
      "cell_type": "code",
      "source": [
        "import numpy as np\n",
        "# Define single-qubit basis states\n",
        "ket0 = np.array([1, 0])\n",
        "ket1 = np.array([0, 1])\n",
        "\n",
        "# Tensor product using np.kron\n",
        "tensor_00 = np.kron(ket0, ket0)\n",
        "tensor_01 = np.kron(ket0, ket1)\n",
        "tensor_super = np.kron((ket0 + ket1) / np.sqrt(2), ket0)\n",
        "\n",
        "print(\"Tensor product |0⟩ ⊗ |0⟩:\\n\", tensor_00)\n",
        "print(\"Tensor product |0⟩ ⊗ |1⟩:\\n\", tensor_01)\n",
        "print(\"Tensor product (|0⟩ + |1⟩)/√2 ⊗ |0⟩:\\n\", tensor_super)\n"
      ],
      "metadata": {
        "colab": {
          "base_uri": "https://localhost:8080/"
        },
        "id": "PN_BzKCH399r",
        "outputId": "a0fb6516-f235-4b6f-9ee8-13da01b2db8a"
      },
      "execution_count": 5,
      "outputs": [
        {
          "output_type": "stream",
          "name": "stdout",
          "text": [
            "Tensor product |0⟩ ⊗ |0⟩:\n",
            " [1 0 0 0]\n",
            "Tensor product |0⟩ ⊗ |1⟩:\n",
            " [0 1 0 0]\n",
            "Tensor product (|0⟩ + |1⟩)/√2 ⊗ |0⟩:\n",
            " [0.70710678 0.         0.70710678 0.        ]\n"
          ]
        }
      ]
    },
    {
      "cell_type": "markdown",
      "source": [
        "### Tensor Product of $|+\\rangle$ and $|i^-\\rangle$\n",
        "\n",
        "We compute the tensor product of two single-qubit quantum states:\n",
        "\n",
        "- $|+\\rangle = \\frac{1}{\\sqrt{2}} \\left( |0\\rangle + |1\\rangle \\right)$  \n",
        "- $|i^-\\rangle = \\frac{1}{\\sqrt{2}} \\left( |0\\rangle - i|1\\rangle \\right)$\n",
        "\n",
        "Their tensor product yields a 2-qubit quantum state:\n",
        "\n",
        "$$\n",
        "|\\Psi\\rangle = |+\\rangle \\otimes |i^-\\rangle =\n",
        "\\frac{1}{2} \\left( |00\\rangle - i|01\\rangle + |10\\rangle - i|11\\rangle \\right)\n",
        "$$\n",
        "\n",
        "We use NumPy to compute this tensor product using `np.kron`:\n"
      ],
      "metadata": {
        "id": "y7HF5rAM7bye"
      }
    },
    {
      "cell_type": "code",
      "source": [
        "import numpy as np\n",
        "\n",
        "# Define basis states\n",
        "ket0 = np.array([1, 0])\n",
        "ket1 = np.array([0, 1])\n",
        "\n",
        "# Define |+> = (|0⟩ + |1⟩) / √2\n",
        "ket_plus = (ket0 + ket1) / np.sqrt(2)\n",
        "\n",
        "# Define |i-> = (|0⟩ - i|1⟩) / √2\n",
        "ket_i_minus = (ket0 - 1j * ket1) / np.sqrt(2)\n",
        "\n",
        "# Tensor product\n",
        "tensor_plus_i_minus = np.kron(ket_plus, ket_i_minus)\n",
        "\n",
        "# Display result\n",
        "print(\"Tensor product |+⟩ ⊗ |i⁻⟩:\\n\", tensor_plus_i_minus)\n"
      ],
      "metadata": {
        "colab": {
          "base_uri": "https://localhost:8080/"
        },
        "id": "Jg78zP8L5ELI",
        "outputId": "29d29143-4d39-488b-d9ea-faa25f8dea65"
      },
      "execution_count": 6,
      "outputs": [
        {
          "output_type": "stream",
          "name": "stdout",
          "text": [
            "Tensor product |+⟩ ⊗ |i⁻⟩:\n",
            " [0.5+0.j  0. -0.5j 0.5+0.j  0. -0.5j]\n"
          ]
        }
      ]
    },
    {
      "cell_type": "markdown",
      "source": [
        "### Tensor Product of Quantum Gates\n",
        "\n",
        "In quantum computing, the tensor product is used to combine gates acting on separate qubits.\n",
        "\n",
        "For example, applying a Hadamard gate to the **first qubit** and the Identity gate to the **second qubit** is expressed as:\n"
      ],
      "metadata": {
        "id": "2YeXKaSq4hNy"
      }
    },
    {
      "cell_type": "code",
      "source": [
        "# Define Hadamard and Identity gates\n",
        "H = (1 / np.sqrt(2)) * np.array([[1, 1],\n",
        "                                 [1, -1]])\n",
        "\n",
        "I = np.eye(2)\n",
        "\n",
        "# Compute the tensor product\n",
        "H_tensor_I = np.kron(H, I)\n",
        "\n",
        "print(\"H ⊗ I =\\n\", H_tensor_I)\n"
      ],
      "metadata": {
        "colab": {
          "base_uri": "https://localhost:8080/"
        },
        "id": "ozrpz4xr4i6p",
        "outputId": "5175f693-a139-4a03-d0ad-c522f55f5135"
      },
      "execution_count": 3,
      "outputs": [
        {
          "output_type": "stream",
          "name": "stdout",
          "text": [
            "H ⊗ I =\n",
            " [[ 0.70710678  0.          0.70710678  0.        ]\n",
            " [ 0.          0.70710678  0.          0.70710678]\n",
            " [ 0.70710678  0.         -0.70710678 -0.        ]\n",
            " [ 0.          0.70710678 -0.         -0.70710678]]\n"
          ]
        }
      ]
    },
    {
      "cell_type": "markdown",
      "source": [
        "### Creating a Bell State using NumPy\n",
        "\n",
        "We demonstrate how to create a **Bell state** using matrix operations in NumPy by simulating a 2-qubit quantum circuit composed of:\n",
        "\n",
        "1. A **Hadamard gate** applied to the first qubit  \n",
        "2. A **CNOT gate** (control: qubit 0, target: qubit 1)\n",
        "\n",
        "---\n",
        "\n",
        "#### Input State\n",
        "\n",
        "We begin with the initial state:\n",
        "\n",
        "$$\n",
        "|00\\rangle = \\begin{bmatrix} 1 \\\\ 0 \\\\ 0 \\\\ 0 \\end{bmatrix}\n",
        "$$\n",
        "\n",
        "---\n",
        "\n",
        "#### Step 1: Apply \\( H \\otimes I \\)\n",
        "\n",
        "This applies a Hadamard gate to the first qubit only:\n",
        "\n",
        "$$\n",
        "H = \\frac{1}{\\sqrt{2}} \\begin{bmatrix} 1 & 1 \\\\ 1 & -1 \\end{bmatrix}, \\quad\n",
        "H \\otimes I =\n",
        "\\frac{1}{\\sqrt{2}}\n",
        "\\begin{bmatrix}\n",
        "1 & 0 & 1 & 0 \\\\\n",
        "0 & 1 & 0 & 1 \\\\\n",
        "1 & 0 & -1 & 0 \\\\\n",
        "0 & 1 & 0 & -1\n",
        "\\end{bmatrix}\n",
        "$$\n",
        "\n",
        "This transforms the system into:\n",
        "\n",
        "$$\n",
        "(H \\otimes I)|00\\rangle = \\frac{1}{\\sqrt{2}}(|00\\rangle + |10\\rangle)\n",
        "$$\n",
        "\n",
        "---\n",
        "\n",
        "#### Step 2: Apply CNOT\n",
        "\n",
        "The **CNOT gate** flips the second qubit if the first qubit is \\( |1\\rangle \\):\n",
        "\n",
        "$$\n",
        "\\text{CNOT} =\n",
        "\\begin{bmatrix}\n",
        "1 & 0 & 0 & 0 \\\\\n",
        "0 & 1 & 0 & 0 \\\\\n",
        "0 & 0 & 0 & 1 \\\\\n",
        "0 & 0 & 1 & 0\n",
        "\\end{bmatrix}\n",
        "$$\n",
        "\n",
        "Applying CNOT results in:\n",
        "\n",
        "$$\n",
        "|\\Phi^+\\rangle = \\frac{1}{\\sqrt{2}} (|00\\rangle + |11\\rangle)\n",
        "$$\n",
        "\n",
        "This is one of the four **maximally entangled Bell states**.\n",
        "\n",
        "---\n",
        "\n",
        "### Summary\n",
        "\n",
        "We have implemented the Bell-state preparation circuit entirely using NumPy:\n",
        "\n",
        "1. Apply \\( H \\otimes I \\) to \\( |00\\rangle \\)  \n",
        "2. Apply CNOT  \n",
        "3. Resulting state:  \n",
        "   $$\n",
        "   \\frac{1}{\\sqrt{2}}(|00\\rangle + |11\\rangle)\n",
        "   $$\n"
      ],
      "metadata": {
        "id": "G-CplrMv8XZO"
      }
    },
    {
      "cell_type": "code",
      "source": [
        "import numpy as np\n",
        "\n",
        "# Step 1: Define Hadamard and Identity gates\n",
        "H = (1 / np.sqrt(2)) * np.array([[1, 1],\n",
        "                                 [1, -1]])\n",
        "I = np.eye(2)\n",
        "\n",
        "# H ⊗ I — Apply Hadamard to the first qubit\n",
        "H_tensor_I = np.kron(H, I)\n",
        "print(\"H ⊗ I =\\n\", H_tensor_I)\n",
        "\n",
        "# Step 2: Define CNOT gate (control: qubit 0, target: qubit 1)\n",
        "CNOT = np.array([[1, 0, 0, 0],\n",
        "                 [0, 1, 0, 0],\n",
        "                 [0, 0, 0, 1],\n",
        "                 [0, 0, 1, 0]])\n",
        "\n",
        "print(\"\\nCNOT =\\n\", CNOT)\n",
        "\n",
        "# Step 3: Define input state |00⟩\n",
        "ket00 = np.array([1, 0, 0, 0])\n",
        "print(\"\\n|00⟩ =\\n\", ket00)\n",
        "\n",
        "# Step 4: Apply (CNOT ⋅ H ⊗ I) ⋅ |00⟩\n",
        "state_after_H = H_tensor_I @ ket00\n",
        "print(\"\\n(H ⊗ I) |00⟩ =\\n\", state_after_H)\n",
        "\n",
        "final_state = CNOT @ state_after_H\n",
        "print(\"\\nFinal state after CNOT ⋅ (H ⊗ I) |00⟩ =\\n\", final_state)\n"
      ],
      "metadata": {
        "colab": {
          "base_uri": "https://localhost:8080/"
        },
        "id": "Y58UMBDx8W3l",
        "outputId": "df019c59-24da-45a6-8e99-b0e9ef1de417"
      },
      "execution_count": 9,
      "outputs": [
        {
          "output_type": "stream",
          "name": "stdout",
          "text": [
            "H ⊗ I =\n",
            " [[ 0.70710678  0.          0.70710678  0.        ]\n",
            " [ 0.          0.70710678  0.          0.70710678]\n",
            " [ 0.70710678  0.         -0.70710678 -0.        ]\n",
            " [ 0.          0.70710678 -0.         -0.70710678]]\n",
            "\n",
            "CNOT =\n",
            " [[1 0 0 0]\n",
            " [0 1 0 0]\n",
            " [0 0 0 1]\n",
            " [0 0 1 0]]\n",
            "\n",
            "|00⟩ =\n",
            " [1 0 0 0]\n",
            "\n",
            "(H ⊗ I) |00⟩ =\n",
            " [0.70710678 0.         0.70710678 0.        ]\n",
            "\n",
            "Final state after CNOT ⋅ (H ⊗ I) |00⟩ =\n",
            " [0.70710678 0.         0.         0.70710678]\n"
          ]
        }
      ]
    }
  ]
}