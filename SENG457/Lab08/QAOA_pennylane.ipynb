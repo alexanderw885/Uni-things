{
 "cells": [
  {
   "cell_type": "markdown",
   "id": "08a70a77-769a-4678-97d7-29216d2e33f3",
   "metadata": {},
   "source": [
    "# Quantum Approximate Optimization Algorithm\n",
    "\n",
    "![qaoa layers](qaoa_circuit.png \"QAOA Circuit\")\n"
   ]
  },
  {
   "cell_type": "code",
   "execution_count": 1,
   "id": "7c3e64f5-448e-4300-bf39-1ae827bf98e1",
   "metadata": {},
   "outputs": [],
   "source": [
    "import pennylane as qml\n",
    "from pennylane import numpy as np\n",
    "import cmath\n",
    "\n",
    "import matplotlib.pyplot as plt\n",
    "from pennylane import qaoa"
   ]
  },
  {
   "cell_type": "markdown",
   "id": "73dbe20f-b6b6-4961-89ed-34f172616832",
   "metadata": {},
   "source": [
    "Circuits and Hamiltonians\n",
    "-------------------------\n",
    "\n",
    "Gates are physically implemented by performing time evolution under a carefully engineered Hamiltonian. These transformations are described by the **time evolution operator**, which is a unitary defined as:\n",
    "\n",
    "$$U(H, \\ t) \\ = \\ e^{-i H t}.$$\n",
    "\n",
    "The time evolution operator is determined completely in terms of a\n",
    "Hamiltonian $H$ and a scalar $t$ representing time. In fact, any unitary\n",
    "$U$ can be written in the form $e^{i \\gamma H}$, where $\\gamma$ is a\n",
    "scalar and $H$ is a Hermitian operator, interpreted as a Hamiltonian.\n",
    "Thus, time evolution establishes a connection that allows us to describe\n",
    "quantum circuits in terms of Hamiltonians. 🤯\n",
    "\n",
    "In general, implementing a quantum circuit that exactly exponentiates a\n",
    "Hamiltonian with many non-commuting terms, i.e., a Hamiltonian of the\n",
    "form:\n",
    "\n",
    "$$H \\ = \\ H_1 \\ + \\ H_2 \\ + \\ H_3 \\ + \\ \\cdots \\ + \\ H_N,$$\n",
    "\n",
    "is very challenging. Instead, we can use the\n",
    "[Trotter-Suzuki](https://en.wikipedia.org/wiki/Lie_product_formula)\n",
    "decomposition formula\n",
    "\n",
    "$$e^{A \\ + \\ B} \\ \\approx \\ \\Big(e^{A/n} e^{B/n}\\Big)^{n},$$\n",
    "\n",
    "to implement an *approximate* time-evolution unitary:\n",
    "\n",
    "$$U(H, t, n) \\ = \\ \\displaystyle\\prod_{j \\ = \\ 1}^{n}\n",
    "\\displaystyle\\prod_{k} e^{-i H_k t / n} \\ \\ \\ \\ \\ \\ \\ \\ \\ \\ H \\\n",
    "= \\ \\displaystyle\\sum_{k} H_k,$$\n",
    "\n",
    "where $U$ approaches $e^{-i H t}$ as $n$ becomes larger.\n",
    "\n",
    "\n",
    "In PennyLane, this is implemented using the\n",
    "`~.pennylane.templates.ApproxTimeEvolution` template. For example, let\\'s say we have the following\n",
    "Hamiltonian:\n"
   ]
  },
  {
   "cell_type": "code",
   "execution_count": 2,
   "id": "739504a1-83c5-4f18-a5f1-132de80332c1",
   "metadata": {},
   "outputs": [
    {
     "name": "stdout",
     "output_type": "stream",
     "text": [
      "1 * Z(0) + 1 * Z(1) + 0.5 * (X(0) @ X(1))\n"
     ]
    }
   ],
   "source": [
    "import pennylane as qml\n",
    "\n",
    "H = qml.Hamiltonian(\n",
    "    [1, 1, 0.5],\n",
    "    [qml.PauliZ(0), qml.PauliZ(1), qml.PauliX(0) @ qml.PauliX(1)]\n",
    ")\n",
    "print(H)"
   ]
  },
  {
   "cell_type": "markdown",
   "id": "2185964d-bb0e-49bd-9145-8de91f1993ec",
   "metadata": {},
   "source": [
    "We can implement the approximate time-evolution operator corresponding to this Hamiltonian:"
   ]
  },
  {
   "cell_type": "code",
   "execution_count": 3,
   "id": "24037062-5c71-44f5-83f9-592628c1689a",
   "metadata": {},
   "outputs": [
    {
     "name": "stdout",
     "output_type": "stream",
     "text": [
      "0: ──RZ(1.00)─╭RXX(0.50)──RZ(1.00)─╭RXX(0.50)─┤  <Z>\n",
      "1: ──RZ(1.00)─╰RXX(0.50)──RZ(1.00)─╰RXX(0.50)─┤  <Z>\n"
     ]
    }
   ],
   "source": [
    "dev = qml.device('default.qubit', wires=2)\n",
    "\n",
    "t = 1\n",
    "n = 2\n",
    "\n",
    "@qml.qnode(dev)\n",
    "def circuit():\n",
    "    qml.ApproxTimeEvolution(H, t, n)\n",
    "    return [qml.expval(qml.PauliZ(i)) for i in range(2)]\n",
    "\n",
    "print(qml.draw(circuit, level=\"device\")())"
   ]
  },
  {
   "cell_type": "markdown",
   "id": "bdf38aad-0764-4bd2-ae91-c5600a83d5f0",
   "metadata": {},
   "source": [
    "### Step 1: Construct the cost Hamiltonian"
   ]
  },
  {
   "cell_type": "code",
   "execution_count": 4,
   "id": "43cede26-c946-4115-88ed-13039233cec5",
   "metadata": {},
   "outputs": [],
   "source": [
    "cost_H = qml.Hamiltonian([1], [qml.PauliZ(0)])\n"
   ]
  },
  {
   "cell_type": "markdown",
   "id": "db7c9ece-83c3-4b6f-a9c9-7c730a7997ed",
   "metadata": {},
   "source": [
    "### Step 2: Construct the mixer Hamiltonian"
   ]
  },
  {
   "cell_type": "code",
   "execution_count": 5,
   "id": "bec7116d-f2f8-41d0-a19f-082c976cd8b9",
   "metadata": {},
   "outputs": [],
   "source": [
    "mixer_H = qml.Hamiltonian([1], [qml.PauliX(0)])"
   ]
  },
  {
   "cell_type": "code",
   "execution_count": 6,
   "id": "ad300c89-7bf5-4bba-a133-e02930ed0a6e",
   "metadata": {},
   "outputs": [],
   "source": [
    "### Step 3: Set hyperparameters\n",
    "dev = qml.device('default.qubit', wires=1)\n",
    "wires=[0]\n",
    "num_layers = 4"
   ]
  },
  {
   "cell_type": "markdown",
   "id": "3819da30-d348-4b57-bf78-ea906b69c9c8",
   "metadata": {},
   "source": [
    "### Step 4: Layering circuits\n",
    "\n",
    "Think of all the times you have copied a text or image, then pasted it repeatedly to create many duplicates. This is also a useful feature when designing quantum algorithms! The idea of repetition is ubiquitous in quantum computing: from amplitude amplification in Grover’s algorithm to layers in quantum neural networks and Hamiltonian simulation, repeated application of a circuit is a central tool in quantum algorithms."
   ]
  },
  {
   "cell_type": "code",
   "execution_count": 7,
   "id": "5dbccb25-21f6-44cb-9c02-3a3481aac29b",
   "metadata": {},
   "outputs": [],
   "source": [
    "def qaoa_layer(gamma, alpha):\n",
    "    qaoa.cost_layer(gamma, cost_H)\n",
    "    qaoa.mixer_layer(alpha, mixer_H)\n",
    "\n",
    "\n",
    "def circuit(params):\n",
    "    for w in wires:\n",
    "        qml.Hadamard(w)\n",
    "    qml.layer(qaoa_layer, num_layers, params[0], params[1])\n",
    "\n",
    "\n",
    "dev = qml.device('default.qubit', wires=1)\n",
    "\n",
    "@qml.qnode(dev)\n",
    "def cost_function(params):\n",
    "    circuit(params)\n",
    "    return qml.expval(cost_H)"
   ]
  },
  {
   "cell_type": "code",
   "execution_count": 8,
   "id": "84f2e8cc-07b3-483e-9bc7-b9754c62977a",
   "metadata": {},
   "outputs": [],
   "source": [
    "optimizer = qml.GradientDescentOptimizer()\n",
    "steps = 70\n",
    "params = np.array([[0.5, 0.5, 0.5, 0.5] ,[0.5, 0.5, 0.5, 0.5]], requires_grad=True)"
   ]
  },
  {
   "cell_type": "code",
   "execution_count": 9,
   "id": "32b35b24-13c8-4672-8c2e-0c1e6423ee96",
   "metadata": {},
   "outputs": [],
   "source": [
    "for _ in range(steps):\n",
    "    params = optimizer.step(cost_function, params)"
   ]
  },
  {
   "cell_type": "code",
   "execution_count": 10,
   "id": "8722770f-530c-4dc0-b3a4-0334863ddf91",
   "metadata": {},
   "outputs": [],
   "source": [
    "@qml.qnode(dev)\n",
    "def circuit_state(params):\n",
    "    circuit(params)\n",
    "    return qml.state()"
   ]
  },
  {
   "cell_type": "code",
   "execution_count": 11,
   "id": "3cc9a66a-6ed4-4321-a1fd-9f75b791591d",
   "metadata": {},
   "outputs": [
    {
     "data": {
      "text/plain": [
       "tensor([-7.9e-04-0.00011j, -1.0e+00-0.j     ], requires_grad=True)"
      ]
     },
     "execution_count": 11,
     "metadata": {},
     "output_type": "execute_result"
    }
   ],
   "source": [
    "np.round(circuit_state(params), decimals=5)"
   ]
  },
  {
   "cell_type": "markdown",
   "id": "d89efdaa-6fb4-4b84-bb39-361e5bba9378",
   "metadata": {},
   "source": [
    "## Problems\n",
    "\n",
    "Use QAOA to find ground states of:\n",
    "1. $\\hat{H} = 3Z_0Z_1$\n",
    "2. $\\hat{H} = \\frac{3}{4}(Z_0Z_1 + Z_1Z_2) - Z_0 - Z_1$"
   ]
  },
  {
   "cell_type": "code",
   "execution_count": null,
   "id": "93ae28f0-0291-47fc-a829-c69b343c9190",
   "metadata": {},
   "outputs": [],
   "source": []
  },
  {
   "cell_type": "markdown",
   "id": "8e9dc23d-d7a6-4794-b6c6-f386fe3af71e",
   "metadata": {},
   "source": [
    "## Max Cut with QAOA\n",
    "$$\n",
    " H_C \\ = \\ \\frac{1}{2} \\displaystyle\\sum_{(i, j) \\in E(G)} \\big( \\mathbb{I} \\ - \\ Z_i Z_j    \\big),\n",
    "$$\n"
   ]
  },
  {
   "cell_type": "code",
   "execution_count": 12,
   "id": "acc08dec-90b9-48f0-829b-394658aad275",
   "metadata": {},
   "outputs": [],
   "source": [
    "import networkx as nx\n",
    "edges = [(0, 1), (1, 2), (2, 3), (3, 0), (1, 3)]\n",
    "graph = nx.Graph(edges)"
   ]
  },
  {
   "cell_type": "markdown",
   "id": "8747ce57-a890-475e-8161-2560060f3f5d",
   "metadata": {},
   "source": [
    "### edges = [(0, 1), (1, 2), (2, 0), (2, 3)]\n",
    "$$\n",
    "\\begin{align}\n",
    "H &= \\sum_{(i, j)\\in E} \\frac{1}{2}(1 - z_iz_j) \\\\\n",
    "&= \\frac{1}{2}(1 - z_0z_1) + \\frac{1}{2}(1 - z_1z_2) + \\frac{1}{2}(1 - z_2z_0) + \\frac{1}{2}(1 - z_2z_3) \\\\\n",
    "& = 2 - ( \\frac{1}{2}z_0z_1 + \\frac{1}{2} z_1z_2 + \\frac{1}{2} z_2z_0 + \\frac{1}{2}z_2z_3)\n",
    "\\end{align}\n",
    "$$\n"
   ]
  },
  {
   "cell_type": "code",
   "execution_count": null,
   "id": "23807b25-45ce-4bcc-bfe3-492bef5fe8ec",
   "metadata": {},
   "outputs": [],
   "source": []
  },
  {
   "cell_type": "markdown",
   "id": "22f58ad3-4c83-4fed-90a9-a7cb8570b8d3",
   "metadata": {},
   "source": [
    "In general, \n",
    "$$\n",
    "\\begin{align}\n",
    "H &= \\sum_{(i, j)\\in E} \\frac{1}{2}(1 - z_iz_j) \\\\\n",
    "&= \\frac{|E|}{2} - \\sum_{(i, j)\\in E} \\frac{1}{2}(z_iz_j)\n",
    "\\end{align}\n",
    "$$"
   ]
  },
  {
   "cell_type": "code",
   "execution_count": 13,
   "id": "b8024133-4339-4480-9661-8b362282f557",
   "metadata": {},
   "outputs": [
    {
     "data": {
      "image/png": "[encoded data removed]",
      "text/plain": [
       "<Figure size 640x480 with 1 Axes>"
      ]
     },
     "metadata": {},
     "output_type": "display_data"
    }
   ],
   "source": [
    "nx.draw(graph, with_labels = True)"
   ]
  },
  {
   "cell_type": "markdown",
   "id": "a25c28d9-b27b-42ae-b9a2-21a7ea2841b3",
   "metadata": {},
   "source": [
    "## Pre-made Hamiltonians in PennyLane\n",
    "PennyLane provides provides a collection of methods that help in the construction of QAOA workflows."
   ]
  },
  {
   "cell_type": "code",
   "execution_count": 14,
   "id": "1b981cc1-e086-44c0-883c-4b0e250463c0",
   "metadata": {},
   "outputs": [],
   "source": [
    "cost_h, mixer_h = qml.qaoa.maxcut(graph)"
   ]
  },
  {
   "cell_type": "code",
   "execution_count": 15,
   "id": "df4f1314-7946-44f1-b107-81880b670701",
   "metadata": {},
   "outputs": [
    {
     "data": {
      "text/plain": [
       "(\n",
       "    0.5 * (Z(0) @ Z(1))\n",
       "  + 0.5 * (Z(0) @ Z(3))\n",
       "  + 0.5 * (Z(1) @ Z(2))\n",
       "  + 0.5 * (Z(1) @ Z(3))\n",
       "  + 0.5 * (Z(2) @ Z(3))\n",
       "  + -0.5 * (I(0) @ I(1))\n",
       "  + -0.5 * (I(0) @ I(3))\n",
       "  + -0.5 * (I(1) @ I(2))\n",
       "  + -0.5 * (I(1) @ I(3))\n",
       "  + -0.5 * (I(2) @ I(3))\n",
       ")"
      ]
     },
     "execution_count": 15,
     "metadata": {},
     "output_type": "execute_result"
    }
   ],
   "source": [
    "cost_h"
   ]
  },
  {
   "cell_type": "code",
   "execution_count": 16,
   "id": "56156848-f895-46da-90cc-5912532392b1",
   "metadata": {},
   "outputs": [],
   "source": [
    "# (-1)*maxcut_ham"
   ]
  },
  {
   "cell_type": "code",
   "execution_count": 17,
   "id": "0f592018-dfc0-4622-bf12-3c1c7c8253d1",
   "metadata": {},
   "outputs": [
    {
     "data": {
      "text/plain": [
       "1 * X(0) + 1 * X(1) + 1 * X(2) + 1 * X(3)"
      ]
     },
     "execution_count": 17,
     "metadata": {},
     "output_type": "execute_result"
    }
   ],
   "source": [
    "mixer_h"
   ]
  },
  {
   "cell_type": "markdown",
   "id": "78c55aa6-8cc0-41bc-bca5-c70e39e5d504",
   "metadata": {},
   "source": [
    "# MaxCut QAOA\n",
    "The quantum approximate optimization algorithm (QAOA) is a general\n",
    "technique that can be used to find approximate solutions to\n",
    "combinatorial optimization problems, in particular problems that can be\n",
    "cast as searching for an optimal bitstring. QAOA consists of the\n",
    "following steps:\n",
    "\n",
    "1.  Define a *cost Hamiltonian* $H_C$ such that its ground state encodes\n",
    "    the solution to the optimization problem.\n",
    "\n",
    "2.  Define a *mixer Hamiltonian* $H_M$.\n",
    "\n",
    "3.  Construct the circuits $e^{-i \\gamma H_C}$ and $e^{-i\\alpha H_M}$.\n",
    "    We call these the *cost* and *mixer layers*, respectively.\n",
    "\n",
    "4.  Choose a parameter $n\\geq 1$ and build the circuit\n",
    "\n",
    "    $$U(\\boldsymbol\\gamma, \\ \\boldsymbol\\alpha) \\ = \\ e^{-i \\alpha_n H_M}\n",
    "    e^{-i \\gamma_n H_C} \\ ... \\ e^{-i \\alpha_1 H_M} e^{-i \\gamma_1 H_C},$$\n",
    "\n",
    "    consisting of repeated application of the cost and mixer layers.\n",
    "\n",
    "5.  Prepare an initial state, apply\n",
    "    $U(\\boldsymbol\\gamma,\\boldsymbol\\alpha)$, and use classical\n",
    "    techniques to optimize the parameters.\n",
    "\n",
    "6.  After the circuit has been optimized, measurements of the output\n",
    "    state reveal approximate solutions to the optimization problem.\n",
    "\n",
    "In summary, the starting point of QAOA is the specification of cost and\n",
    "mixer Hamiltonians. We then use time evolution and layering to create a\n",
    "variational circuit and optimize its parameters. The algorithm concludes\n",
    "by sampling from the circuit to get an approximate solution to the\n",
    "optimization problem. Let\\'s see it in action! 🚀"
   ]
  },
  {
   "cell_type": "code",
   "execution_count": 18,
   "id": "9553ef46-bda6-4589-8a3f-d745a2756ccb",
   "metadata": {},
   "outputs": [],
   "source": [
    "def qaoa_layer(gamma, alpha):\n",
    "    qaoa.cost_layer(gamma, cost_h)\n",
    "    qaoa.mixer_layer(alpha, mixer_h)"
   ]
  },
  {
   "cell_type": "code",
   "execution_count": 19,
   "id": "af437b92-c023-4fe5-8c61-13380342c08a",
   "metadata": {},
   "outputs": [],
   "source": [
    "wires = range(4)\n",
    "layers = 2"
   ]
  },
  {
   "cell_type": "code",
   "execution_count": 20,
   "id": "1d86f270-e3de-4d9d-9170-c431c29cd029",
   "metadata": {},
   "outputs": [],
   "source": [
    "def circuit(params, **kwargs):\n",
    "    for w in wires:\n",
    "        qml.Hadamard(wires=w)\n",
    "    qml.layer(qaoa_layer, layers, params[0], params[1])"
   ]
  },
  {
   "cell_type": "code",
   "execution_count": 21,
   "id": "b0e29d8b-7397-4f7d-8b2a-8295d9f7c5ea",
   "metadata": {},
   "outputs": [],
   "source": [
    "dev = qml.device(\"default.qubit\", wires=wires)\n",
    "\n",
    "@qml.qnode(dev)\n",
    "def cost_function(params):\n",
    "    circuit(params)\n",
    "    return qml.expval(cost_h)"
   ]
  },
  {
   "cell_type": "code",
   "execution_count": 22,
   "id": "1d54fd71-9023-4424-8e76-ddf0f3ac473c",
   "metadata": {},
   "outputs": [],
   "source": [
    "optimizer = qml.GradientDescentOptimizer()\n",
    "steps = 12\n",
    "params = np.array([[0.2, 0.2], [0.2, 0.2]], requires_grad=True)"
   ]
  },
  {
   "cell_type": "code",
   "execution_count": 23,
   "id": "cae98ce0-a554-4fdf-91ca-af826a34b118",
   "metadata": {},
   "outputs": [
    {
     "name": "stderr",
     "output_type": "stream",
     "text": [
      "/home/alex/anaconda3/envs/seng457/lib/python3.13/site-packages/pennylane/ops/op_math/composite.py:209: FutureWarning: functools.partial will be a method descriptor in future Python versions; wrap it in staticmethod() if you want to preserve the old behavior\n",
      "  return self._math_op(math.vstack(eigvals), axis=0)\n"
     ]
    },
    {
     "name": "stdout",
     "output_type": "stream",
     "text": [
      "Optimal Parameters\n",
      "[[-0.07589978  0.08046374]\n",
      " [ 0.17524738  0.03745729]]\n"
     ]
    }
   ],
   "source": [
    "for i in range(steps):\n",
    "    params = optimizer.step(cost_function, params)\n",
    "\n",
    "print(\"Optimal Parameters\")\n",
    "print(params)"
   ]
  },
  {
   "cell_type": "code",
   "execution_count": 24,
   "id": "3653c9cb-2a46-4802-b721-845d92121367",
   "metadata": {},
   "outputs": [],
   "source": [
    "@qml.qnode(dev)\n",
    "def probability_circuit(gamma, alpha):\n",
    "    circuit([gamma, alpha])\n",
    "    return qml.probs(wires=wires)\n",
    "\n",
    "\n",
    "probs = probability_circuit(params[0], params[1])"
   ]
  },
  {
   "cell_type": "code",
   "execution_count": 25,
   "id": "4652013d-c212-430d-9abc-d91b46f43b5d",
   "metadata": {},
   "outputs": [],
   "source": [
    "binary_labels = [format(i, '0' + str((len(wires))) + 'b') for i in range(2 **(len(wires)))]"
   ]
  },
  {
   "cell_type": "code",
   "execution_count": 26,
   "id": "ea14866d-737b-4b5b-874c-cc2f28405e49",
   "metadata": {},
   "outputs": [
    {
     "data": {
      "image/png": "[encoded data removed]",
      "text/plain": [
       "<Figure size 640x480 with 1 Axes>"
      ]
     },
     "metadata": {},
     "output_type": "display_data"
    }
   ],
   "source": [
    "import matplotlib.pyplot as plt\n",
    "\n",
    "# Your data\n",
    "# Assuming you have defined wires, probs, binary_labels, layers, and steps earlier\n",
    "\n",
    "# Plotting\n",
    "plt.bar(range(2 ** len(wires)), probs, color='black')  # Set color to black\n",
    "plt.xticks(range(2 ** len(wires)), binary_labels, rotation=45, fontsize=10) \n",
    "plt.yticks(fontsize=8)\n",
    "plt.xlabel('Binary Strings', fontsize=10)\n",
    "plt.ylabel('Probability', fontsize=10)\n",
    "#plt.title(f'Max Cut with QAOA\\nLayers: {layers}, Steps: {steps}, Optimizer: Gradient Descent', fontsize=12)\n",
    "plt.title('Max Cut with QAOA')\n",
    "# Add gridlines\n",
    "# plt.grid(True, linestyle='--', linewidth=0.5)\n",
    "\n",
    "plt.tight_layout()  # Adjust layout to prevent clipping of labels\n",
    "\n",
    "plt.savefig(\"graph\")\n"
   ]
  },
  {
   "cell_type": "markdown",
   "id": "f511c9d4-b406-41c7-832b-c6676286c226",
   "metadata": {},
   "source": [
    "Reference: https://pennylane.ai/qml/demos/tutorial_qaoa_intro"
   ]
  }
 ],
 "metadata": {
  "kernelspec": {
   "display_name": "seng457",
   "language": "python",
   "name": "python3"
  },
  "language_info": {
   "codemirror_mode": {
    "name": "ipython",
    "version": 3
   },
   "file_extension": ".py",
   "mimetype": "text/x-python",
   "name": "python",
   "nbconvert_exporter": "python",
   "pygments_lexer": "ipython3",
   "version": "3.13.2"
  }
 },
 "nbformat": 4,
 "nbformat_minor": 5
}
