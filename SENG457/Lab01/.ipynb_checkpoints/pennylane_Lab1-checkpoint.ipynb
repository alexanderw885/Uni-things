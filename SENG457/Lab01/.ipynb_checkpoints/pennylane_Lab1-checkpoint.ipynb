{
 "cells": [
  {
   "cell_type": "markdown",
   "id": "8911d066",
   "metadata": {},
   "source": [
    "# PennyLane Demo"
   ]
  },
  {
   "cell_type": "code",
   "execution_count": 1,
   "id": "780f3554-ca9b-4f11-9a64-80c0454c23e8",
   "metadata": {},
   "outputs": [],
   "source": [
    "# pip install --upgrade pennylane"
   ]
  },
  {
   "cell_type": "code",
   "execution_count": 2,
   "id": "5eb7b3b2",
   "metadata": {},
   "outputs": [],
   "source": [
    "import pennylane as qml\n",
    "from pennylane import numpy as np"
   ]
  },
  {
   "cell_type": "code",
   "execution_count": 3,
   "id": "ed1dd771-7e0f-4d5e-9d71-48812d34b69a",
   "metadata": {},
   "outputs": [
    {
     "name": "stdout",
     "output_type": "stream",
     "text": [
      "0.41.1\n"
     ]
    }
   ],
   "source": [
    "print(qml.__version__)"
   ]
  },
  {
   "cell_type": "markdown",
   "id": "76ce9d8e",
   "metadata": {},
   "source": [
    "## Device\n",
    "Quantum circuit creation: The program creates a quantum circuit using the qml.qnode decorator and the dev device object."
   ]
  },
  {
   "cell_type": "code",
   "execution_count": 4,
   "id": "a093c5a2",
   "metadata": {},
   "outputs": [],
   "source": [
    "dev = qml.device('default.qubit', wires=1)"
   ]
  },
  {
   "cell_type": "markdown",
   "id": "e6df8ce2",
   "metadata": {},
   "source": [
    "## QNode\n",
    "The qml.qnode decorator is a function provided by PennyLane that allows you to create a quantum node. In this example, the qml.qnode decorator is used to create a quantum node called circuit. A quantum node is a Python function that represents a quantum circuit and can be executed on a quantum device. The qml.qnode decorator takes a quantum function as input and returns a new function that can be used to evaluate the quantum circuit on a specified device."
   ]
  },
  {
   "cell_type": "code",
   "execution_count": 5,
   "id": "393d2305",
   "metadata": {},
   "outputs": [],
   "source": [
    "dev = qml.device('default.qubit', wires=1, shots=1024)\n",
    "\n",
    "@qml.qnode(dev)\n",
    "def circuit():\n",
    "    qml.Hadamard(wires=0)\n",
    "    return qml.probs(wires=0)"
   ]
  },
  {
   "cell_type": "code",
   "execution_count": 6,
   "id": "fa1c6154",
   "metadata": {},
   "outputs": [
    {
     "name": "stdout",
     "output_type": "stream",
     "text": [
      "Probabilities: [0.53222656 0.46777344]\n"
     ]
    }
   ],
   "source": [
    "print(\"Probabilities:\", circuit())"
   ]
  },
  {
   "cell_type": "markdown",
   "id": "0aff4a26-8ed9-4bf4-8618-a546e066b11d",
   "metadata": {},
   "source": [
    "## Where are the measurements?\n",
    "[https://docs.pennylane.ai/en/stable/introduction/measurements.html](https://docs.pennylane.ai/en/stable/introduction/measurements.html)"
   ]
  },
  {
   "cell_type": "markdown",
   "id": "de483cbb",
   "metadata": {},
   "source": [
    "## Built for Hybrid Quantum-Classical Computing"
   ]
  },
  {
   "cell_type": "code",
   "execution_count": 8,
   "id": "099463cb",
   "metadata": {},
   "outputs": [
    {
     "name": "stdout",
     "output_type": "stream",
     "text": [
      "Optimized rotation angles: [0.54 0.12]\n"
     ]
    }
   ],
   "source": [
    "import pennylane as qml\n",
    "from pennylane import numpy as np\n",
    "\n",
    "dev = qml.device('default.qubit', wires=2)\n",
    "\n",
    "@qml.qnode(dev)\n",
    "def circuit(params):\n",
    "    qml.RX(params[0], wires=0)\n",
    "    qml.RY(params[1], wires=1)\n",
    "    qml.CNOT(wires=[0, 1])\n",
    "    return qml.expval(qml.PauliZ(0))\n",
    "\n",
    "def cost(params):\n",
    "    return circuit(params)\n",
    "\n",
    "params = np.array([0.54, 0.12])\n",
    "opt = qml.GradientDescentOptimizer(stepsize=0.4)\n",
    "\n",
    "for i in range(100):\n",
    "    params = opt.step(cost, params)\n",
    "\n",
    "print(\"Optimized rotation angles:\", params)\n"
   ]
  }
 ],
 "metadata": {
  "kernelspec": {
   "display_name": "Python 3 (ipykernel)",
   "language": "python",
   "name": "python3"
  },
  "language_info": {
   "codemirror_mode": {
    "name": "ipython",
    "version": 3
   },
   "file_extension": ".py",
   "mimetype": "text/x-python",
   "name": "python",
   "nbconvert_exporter": "python",
   "pygments_lexer": "ipython3",
   "version": "3.13.2"
  }
 },
 "nbformat": 4,
 "nbformat_minor": 5
}
