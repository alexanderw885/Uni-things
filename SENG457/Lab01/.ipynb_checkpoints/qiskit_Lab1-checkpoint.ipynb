{
 "cells": [
  {
   "cell_type": "markdown",
   "id": "5f8eaa76-aba6-420c-8014-f0543f7b1239",
   "metadata": {},
   "source": [
    "# Installing Required Qiskit Packages"
   ]
  },
  {
   "cell_type": "code",
   "execution_count": 2,
   "id": "kTFl2BG35iKV",
   "metadata": {
    "id": "kTFl2BG35iKV"
   },
   "outputs": [],
   "source": [
    "# %pip install qiskit\n",
    "# %pip install qiskit-ibm-runtime\n",
    "# %pip install qiskit-aer"
   ]
  },
  {
   "cell_type": "code",
   "execution_count": 3,
   "id": "38f9195c-d100-4f4f-a0af-578980d3d07b",
   "metadata": {},
   "outputs": [],
   "source": [
    "# To upgrade Qiskit and related packages (including qiskit-aer and qiskit-terra):\n",
    "# !pip install --upgrade qiskit qiskit-aer qiskit-terra qiskit-ibm-runtime matplotlib"
   ]
  },
  {
   "cell_type": "code",
   "execution_count": 4,
   "id": "bebf3e98-289d-4070-9fdd-b347f4c35cac",
   "metadata": {},
   "outputs": [
    {
     "name": "stdout",
     "output_type": "stream",
     "text": [
      "2.0.0\n"
     ]
    }
   ],
   "source": [
    "import qiskit\n",
    "print(qiskit.__version__)"
   ]
  },
  {
   "cell_type": "markdown",
   "id": "b720e4ce",
   "metadata": {
    "id": "b720e4ce"
   },
   "source": [
    "# Qiskit Demo"
   ]
  },
  {
   "cell_type": "code",
   "execution_count": 5,
   "id": "x892oRWvNBFg",
   "metadata": {
    "id": "x892oRWvNBFg"
   },
   "outputs": [],
   "source": [
    "from qiskit import QuantumCircuit, QuantumRegister, ClassicalRegister, transpile\n",
    "from qiskit_aer import AerSimulator\n",
    "from qiskit.visualization import plot_histogram\n",
    "import matplotlib.pyplot as plt"
   ]
  },
  {
   "cell_type": "markdown",
   "id": "3fd25660",
   "metadata": {
    "id": "3fd25660"
   },
   "source": [
    "## Quantum and Classical Registers"
   ]
  },
  {
   "cell_type": "code",
   "execution_count": 6,
   "id": "e0b79ab1",
   "metadata": {
    "id": "e0b79ab1"
   },
   "outputs": [],
   "source": [
    "# Create a quantum circuit with two qubits\n",
    "qubits = QuantumRegister(2, name=\"q\")\n",
    "bits= ClassicalRegister (2, name=\"b\")\n",
    "circuit = QuantumCircuit(qubits,bits)\n",
    "q0,q1 = qubits\n",
    "b0, b1 = bits"
   ]
  },
  {
   "cell_type": "markdown",
   "id": "daf703f0",
   "metadata": {
    "id": "daf703f0"
   },
   "source": [
    "## Applying Gates"
   ]
  },
  {
   "cell_type": "code",
   "execution_count": 7,
   "id": "12104be2",
   "metadata": {
    "colab": {
     "base_uri": "https://localhost:8080/"
    },
    "id": "12104be2",
    "outputId": "7e7f1ab8-0375-490c-abd6-6d87ab7bdf2f"
   },
   "outputs": [
    {
     "data": {
      "text/plain": [
       "<qiskit.circuit.instructionset.InstructionSet at 0x268ede1b5e0>"
      ]
     },
     "execution_count": 7,
     "metadata": {},
     "output_type": "execute_result"
    }
   ],
   "source": [
    "# Apply a Hadamard gate to the qubit\n",
    "circuit.x(0)\n",
    "# circuit.h(0)\n",
    "# circuit.cx(q0,q1)\n",
    "# circuit.x(0)\n",
    "# circuit.y(0)\n",
    "\n",
    "circuit.h(1)"
   ]
  },
  {
   "cell_type": "markdown",
   "id": "b4936804",
   "metadata": {
    "id": "b4936804"
   },
   "source": [
    "## Measurement"
   ]
  },
  {
   "cell_type": "code",
   "execution_count": 8,
   "id": "2cbefc99",
   "metadata": {
    "id": "2cbefc99"
   },
   "outputs": [
    {
     "data": {
      "text/plain": [
       "<qiskit.circuit.instructionset.InstructionSet at 0x268a8079d20>"
      ]
     },
     "execution_count": 8,
     "metadata": {},
     "output_type": "execute_result"
    }
   ],
   "source": [
    "# Measure the qubits and store the result in the classical bits\n",
    "circuit.measure([q0,q1],[b0,b1])\n",
    "# circuit.measure_all()\n"
   ]
  },
  {
   "cell_type": "markdown",
   "id": "770b6315-6001-484f-8b11-09525bdf1145",
   "metadata": {
    "id": "770b6315-6001-484f-8b11-09525bdf1145"
   },
   "source": [
    "## Draw the circuit"
   ]
  },
  {
   "cell_type": "code",
   "execution_count": 9,
   "id": "7c064880-6272-4df6-867f-4f3c4cc2e142",
   "metadata": {
    "colab": {
     "base_uri": "https://localhost:8080/",
     "height": 255
    },
    "id": "7c064880-6272-4df6-867f-4f3c4cc2e142",
    "outputId": "baa7fae9-53b2-401b-bbdd-01e043acdbf3"
   },
   "outputs": [
    {
     "data": {
      "image/png": "[encoded data removed]",
      "text/plain": [
       "<Figure size 370.906x284.278 with 1 Axes>"
      ]
     },
     "execution_count": 9,
     "metadata": {},
     "output_type": "execute_result"
    }
   ],
   "source": [
    "circuit.draw(output='mpl', style='clifford')\n",
    "\n",
    "# circuit.draw(output='text')\n",
    "\n",
    "# style Name\tDescription\n",
    "# 'default'\tStandard style with wide gates and neutral colors\n",
    "# 'iqx'\tIBM Quantum Experience style (colorful)\n",
    "# 'clifford'\tHighlights Clifford gates\n",
    "# 'bw'\tBlack and white style (for print)"
   ]
  },
  {
   "cell_type": "markdown",
   "id": "fc23515d",
   "metadata": {
    "id": "fc23515d"
   },
   "source": [
    "## Execute on a Backend"
   ]
  },
  {
   "cell_type": "code",
   "execution_count": 10,
   "id": "86dad5a9",
   "metadata": {
    "colab": {
     "base_uri": "https://localhost:8080/",
     "height": 504
    },
    "id": "86dad5a9",
    "outputId": "7ddb039a-3d00-4a92-87e3-66ea393ee6c6"
   },
   "outputs": [
    {
     "name": "stdout",
     "output_type": "stream",
     "text": [
      "{'01': 503, '11': 521}\n"
     ]
    },
    {
     "data": {
      "image/png": "[encoded data removed]",
      "text/plain": [
       "<Figure size 640x480 with 1 Axes>"
      ]
     },
     "execution_count": 10,
     "metadata": {},
     "output_type": "execute_result"
    }
   ],
   "source": [
    "# Use AerSimulator\n",
    "simulator = AerSimulator()\n",
    "\n",
    "# Transpile the circuit for the simulator\n",
    "compiled_circuit = transpile(circuit, simulator)\n",
    "\n",
    "# Run the simulation\n",
    "job = simulator.run(compiled_circuit, shots=1024)\n",
    "result = job.result()\n",
    "# Get the counts\n",
    "counts = result.get_counts()\n",
    "print(counts)\n",
    "\n",
    "# Plot histogram\n",
    "plot_histogram(counts)"
   ]
  }
 ],
 "metadata": {
  "colab": {
   "provenance": []
  },
  "kernelspec": {
   "display_name": "Python 3 (ipykernel)",
   "language": "python",
   "name": "python3"
  },
  "language_info": {
   "codemirror_mode": {
    "name": "ipython",
    "version": 3
   },
   "file_extension": ".py",
   "mimetype": "text/x-python",
   "name": "python",
   "nbconvert_exporter": "python",
   "pygments_lexer": "ipython3",
   "version": "3.13.2"
  }
 },
 "nbformat": 4,
 "nbformat_minor": 5
}
