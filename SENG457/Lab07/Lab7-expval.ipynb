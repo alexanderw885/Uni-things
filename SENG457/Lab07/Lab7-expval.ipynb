{
 "cells": [
  {
   "cell_type": "markdown",
   "id": "d638e9a9-9473-4b4f-b215-a66a4fc829bb",
   "metadata": {},
   "source": [
    "# Expectation Values in PennyLane"
   ]
  },
  {
   "cell_type": "code",
   "execution_count": 3,
   "id": "613064dc-8d3d-4eb7-972e-7aeab9ca41c3",
   "metadata": {},
   "outputs": [],
   "source": [
    "import pennylane as qml"
   ]
  },
  {
   "cell_type": "markdown",
   "id": "5affe772-4eb2-4379-9e31-30e36f808f6d",
   "metadata": {},
   "source": [
    "## Single Qubit Expectation calculation"
   ]
  },
  {
   "cell_type": "code",
   "execution_count": 4,
   "id": "91b48298-b4ab-4f69-89fb-dd0968be79f0",
   "metadata": {},
   "outputs": [],
   "source": [
    "dev = qml.device(\"default.qubit\", wires=1)"
   ]
  },
  {
   "cell_type": "code",
   "execution_count": 5,
   "id": "cc005250-b525-4b9c-9f7c-a4a594fa2c41",
   "metadata": {},
   "outputs": [],
   "source": [
    "dev = qml.device(\"default.qubit\", wires=1)\n",
    "@qml.qnode(dev)\n",
    "def circuit_expval():\n",
    "    # Test this out with different states and different observables\n",
    "    # qml.PauliX(0)\n",
    "    # Below is the return statement for computing the expectation value. qml.PauliZ(0) is the observable in this case.\n",
    "    return qml.expval(qml.PauliZ(0))"
   ]
  },
  {
   "cell_type": "code",
   "execution_count": 6,
   "id": "4266fea9-cc33-4a5f-a610-3d1e59436188",
   "metadata": {},
   "outputs": [
    {
     "data": {
      "text/plain": [
       "np.float64(1.0)"
      ]
     },
     "execution_count": 6,
     "metadata": {},
     "output_type": "execute_result"
    }
   ],
   "source": [
    "circuit_expval()"
   ]
  },
  {
   "cell_type": "markdown",
   "id": "af2cfe62-f909-4046-bbe8-9d8b7fbe13cf",
   "metadata": {},
   "source": [
    "### Task 1: What is the expectation value of the Pauli-Z operator for the state $|\\psi\\rangle = |1\\rangle$"
   ]
  },
  {
   "cell_type": "code",
   "execution_count": 7,
   "id": "3473bf63-4e1b-4725-8aa0-9fb5f8dd344d",
   "metadata": {},
   "outputs": [],
   "source": [
    "dev = qml.device(\"default.qubit\", wires=1)\n",
    "@qml.qnode(dev)\n",
    "def circuit_expval():\n",
    "    # Test this out with different states and different observables\n",
    "    qml.PauliX(0)\n",
    "    # Below is the return statement for computing the expectation value. qml.PauliZ(0) is the observable in this case.\n",
    "    return qml.expval(qml.PauliZ(0))"
   ]
  },
  {
   "cell_type": "markdown",
   "id": "d8ee18c8-371d-4107-8e55-c65557c09710",
   "metadata": {},
   "source": [
    "### Task 2: What is the expectation value of the Pauli-Z operator for the state $|\\psi\\rangle = |+\\rangle$"
   ]
  },
  {
   "cell_type": "code",
   "execution_count": 8,
   "id": "bfdb6b69-2e10-4d88-9a40-9687c7660f67",
   "metadata": {},
   "outputs": [],
   "source": [
    "dev = qml.device(\"default.qubit\", wires=1)\n",
    "@qml.qnode(dev)\n",
    "def circuit_expval():\n",
    "    # Test this out with different states and different observables\n",
    "    qml.Hadamard(0)\n",
    "    # Below is the return statement for computing the expectation value. qml.PauliZ(0) is the observable in this case.\n",
    "    return qml.expval(qml.PauliZ(0))"
   ]
  },
  {
   "cell_type": "markdown",
   "id": "2095bde6-d21b-471b-8bf2-9c006ca31e5e",
   "metadata": {},
   "source": [
    "### Task 3(a): Calculate the expectation value of the Pauli-Z observable for the state given by\n",
    "![Circuit](circ.png \"Circuit\")"
   ]
  },
  {
   "cell_type": "code",
   "execution_count": 9,
   "id": "0400d898-ccd3-419b-a3bd-d0b72ddbc4a3",
   "metadata": {},
   "outputs": [],
   "source": [
    "@qml.qnode(dev)\n",
    "def circuit_expval():\n",
    "    qml.PauliX(0)\n",
    "    qml.Hadamard(0)\n",
    "    qml.T(0)\n",
    "    return qml.expval(qml.PauliZ(0))"
   ]
  },
  {
   "cell_type": "code",
   "execution_count": 10,
   "id": "76593ec0-437e-4836-8dd4-ea5239718e42",
   "metadata": {},
   "outputs": [
    {
     "data": {
      "text/plain": [
       "np.float64(-1.1102230246251565e-16)"
      ]
     },
     "execution_count": 10,
     "metadata": {},
     "output_type": "execute_result"
    }
   ],
   "source": [
    "circuit_expval()"
   ]
  },
  {
   "cell_type": "markdown",
   "id": "aa4944c3-560c-40c6-ae19-38694705e557",
   "metadata": {},
   "source": [
    "### Task 3(b): Give the dirac notation for the expectation calculation above"
   ]
  },
  {
   "cell_type": "markdown",
   "id": "8a33183d-38d3-4f76-a99e-d2efd234de8a",
   "metadata": {},
   "source": [
    "For any circuit that prepares a state $|\\psi\\rangle$, the expectation value for any observable $\\hat{O}$ is:\n",
    "\n",
    "$$\\langle \\psi|\\hat{O}|\\psi\\rangle$$\n",
    "\n",
    "\n",
    "For this question the observable is Pauli-$Z$. The state $|\\psi\\rangle$ is prepared by executing the circuit (before measurement), i.e. applying $H$ and$T$. Therefore, \n",
    "$$\n",
    "|\\psi\\rangle = TH|1\\rangle\n",
    "$$\n",
    "Its conjugate transpose $\\langle \\psi|$ is:\n",
    "\n",
    "$$\n",
    "\\langle \\psi| = (|\\psi\\rangle)^{\\dagger}  = (TH|1\\rangle)^{\\dagger} = \\langle 1|H^{\\dagger}T^{\\dagger}\n",
    "$$\n",
    "\n",
    "\n",
    "$$\\langle 1|H^{\\dagger}T^{\\dagger}ZTH|1\\rangle$$\n",
    "or since $H^{\\dagger} = H$\n",
    "$$\\langle 1|HT^{\\dagger}ZTH|1\\rangle$$"
   ]
  },
  {
   "cell_type": "markdown",
   "id": "ace45cb4-ee90-425a-a967-085952df69ef",
   "metadata": {},
   "source": [
    "## Two Qubit Expectation calculation"
   ]
  },
  {
   "cell_type": "code",
   "execution_count": 11,
   "id": "5d3c6788-d085-4eb0-ae14-7dd8febb05a9",
   "metadata": {},
   "outputs": [],
   "source": [
    "dev = qml.device(\"default.qubit\", wires=2)"
   ]
  },
  {
   "cell_type": "code",
   "execution_count": 12,
   "id": "662889d0-05c9-45ac-b517-e216b39bfd67",
   "metadata": {},
   "outputs": [],
   "source": [
    "@qml.qnode(dev)\n",
    "def circuit_expval():\n",
    "    qml.PauliX(0)\n",
    "    return qml.expval(5*qml.PauliZ(0)@qml.PauliZ(1) + 3*qml.PauliX(0) - 4*qml.Identity(0)@qml.PauliY(1))"
   ]
  },
  {
   "cell_type": "code",
   "execution_count": 13,
   "id": "a97ea8e1-4620-47ca-a278-e589239ef6fb",
   "metadata": {},
   "outputs": [
    {
     "name": "stderr",
     "output_type": "stream",
     "text": [
      "C:\\Users\\mazyk\\anaconda3\\envs\\qlab\\Lib\\site-packages\\pennylane\\ops\\op_math\\composite.py:209: FutureWarning: functools.partial will be a method descriptor in future Python versions; wrap it in staticmethod() if you want to preserve the old behavior\n",
      "  return self._math_op(math.vstack(eigvals), axis=0)\n"
     ]
    },
    {
     "data": {
      "text/plain": [
       "np.float64(-4.999999999999997)"
      ]
     },
     "execution_count": 13,
     "metadata": {},
     "output_type": "execute_result"
    }
   ],
   "source": [
    "circuit_expval()"
   ]
  },
  {
   "cell_type": "markdown",
   "id": "28de0efe-e340-4485-9022-5f6875eceb30",
   "metadata": {},
   "source": [
    "### Task 4: What is the expectation value of the operator $\\hat{O} = Z_0\\otimes Z_1$ for the state $|\\psi\\rangle = |11\\rangle$\n",
    "\n",
    "Note that observables are sometimes written without the $\\otimes$, e.g., $\\hat{O} = Z_0 Z_1$ or $\\hat{O} = ZZ$ - they all mean the same as above"
   ]
  },
  {
   "cell_type": "code",
   "execution_count": 14,
   "id": "7abeb286-5ea7-4a9e-be66-a8bb67b80a6b",
   "metadata": {},
   "outputs": [],
   "source": [
    "@qml.qnode(dev)\n",
    "def circuit_expval():\n",
    "    qml.PauliX(0)\n",
    "    qml.PauliX(1)\n",
    "    return qml.expval(qml.PauliZ(0)@qml.PauliZ(1))"
   ]
  },
  {
   "cell_type": "markdown",
   "id": "3436d266-8fd6-4ba9-8fde-92a7b0c2fb08",
   "metadata": {},
   "source": [
    "### Task 5: What is the expectation value of the operator $\\hat{O} = 2Z_0 Z_1 - 3X_0$ for the state $|\\psi\\rangle = |11\\rangle$"
   ]
  },
  {
   "cell_type": "code",
   "execution_count": 15,
   "id": "10bf0a14-de3c-4f8e-af25-946d8151eccc",
   "metadata": {},
   "outputs": [],
   "source": [
    "@qml.qnode(dev)\n",
    "def circuit_expval():\n",
    "    qml.PauliX(0)\n",
    "    qml.PauliX(1)\n",
    "    return qml.expval(2*qml.PauliZ(0)@qml.PauliZ(1) - 3*qml.PauliX(0))"
   ]
  }
 ],
 "metadata": {
  "kernelspec": {
   "display_name": "Python 3 (ipykernel)",
   "language": "python",
   "name": "python3"
  },
  "language_info": {
   "codemirror_mode": {
    "name": "ipython",
    "version": 3
   },
   "file_extension": ".py",
   "mimetype": "text/x-python",
   "name": "python",
   "nbconvert_exporter": "python",
   "pygments_lexer": "ipython3",
   "version": "3.13.2"
  }
 },
 "nbformat": 4,
 "nbformat_minor": 5
}
