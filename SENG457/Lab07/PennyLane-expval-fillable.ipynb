{
 "cells": [
  {
   "cell_type": "markdown",
   "id": "d638e9a9-9473-4b4f-b215-a66a4fc829bb",
   "metadata": {},
   "source": [
    "# Expectation Values in PennyLane"
   ]
  },
  {
   "cell_type": "code",
   "execution_count": 2,
   "id": "613064dc-8d3d-4eb7-972e-7aeab9ca41c3",
   "metadata": {},
   "outputs": [],
   "source": [
    "import pennylane as qml"
   ]
  },
  {
   "cell_type": "markdown",
   "id": "5affe772-4eb2-4379-9e31-30e36f808f6d",
   "metadata": {},
   "source": [
    "## Single Qubit Expectation calculation"
   ]
  },
  {
   "cell_type": "code",
   "execution_count": 3,
   "id": "91b48298-b4ab-4f69-89fb-dd0968be79f0",
   "metadata": {},
   "outputs": [],
   "source": [
    "dev = qml.device(\"default.qubit\", wires=1)"
   ]
  },
  {
   "cell_type": "code",
   "execution_count": 4,
   "id": "cc005250-b525-4b9c-9f7c-a4a594fa2c41",
   "metadata": {},
   "outputs": [],
   "source": [
    "@qml.qnode(dev)\n",
    "def circuit_expval():\n",
    "    return qml.expval(qml.PauliZ(0))"
   ]
  },
  {
   "cell_type": "code",
   "execution_count": 5,
   "id": "4266fea9-cc33-4a5f-a610-3d1e59436188",
   "metadata": {},
   "outputs": [
    {
     "data": {
      "text/plain": [
       "tensor(1., requires_grad=True)"
      ]
     },
     "execution_count": 5,
     "metadata": {},
     "output_type": "execute_result"
    }
   ],
   "source": [
    "circuit_expval()"
   ]
  },
  {
   "cell_type": "markdown",
   "id": "af2cfe62-f909-4046-bbe8-9d8b7fbe13cf",
   "metadata": {},
   "source": [
    "### Task 1: What is the expectation value of the Pauli-Z operator for the state $|\\psi\\rangle = |1\\rangle$"
   ]
  },
  {
   "cell_type": "code",
   "execution_count": null,
   "id": "3473bf63-4e1b-4725-8aa0-9fb5f8dd344d",
   "metadata": {},
   "outputs": [],
   "source": []
  },
  {
   "cell_type": "markdown",
   "id": "d8ee18c8-371d-4107-8e55-c65557c09710",
   "metadata": {},
   "source": [
    "### Task 2: What is the expectation value of the Pauli-Z operator for the state $|\\psi\\rangle = |1\\rangle$"
   ]
  },
  {
   "cell_type": "code",
   "execution_count": null,
   "id": "bfdb6b69-2e10-4d88-9a40-9687c7660f67",
   "metadata": {},
   "outputs": [],
   "source": []
  },
  {
   "cell_type": "markdown",
   "id": "2095bde6-d21b-471b-8bf2-9c006ca31e5e",
   "metadata": {},
   "source": [
    "### Task 3(a): Calculate the expectation value of the Pauli-Z operator for the state given by\n",
    "![Circuit](circ.png \"Circuit\")"
   ]
  },
  {
   "cell_type": "code",
   "execution_count": null,
   "id": "0400d898-ccd3-419b-a3bd-d0b72ddbc4a3",
   "metadata": {},
   "outputs": [],
   "source": []
  },
  {
   "cell_type": "markdown",
   "id": "aa4944c3-560c-40c6-ae19-38694705e557",
   "metadata": {},
   "source": [
    "### Task 3(b): Give the dirac notation for the expectation calculation above"
   ]
  },
  {
   "cell_type": "code",
   "execution_count": null,
   "id": "a767ac8f-20ee-45d3-ba98-b28c50ce0d29",
   "metadata": {},
   "outputs": [],
   "source": []
  },
  {
   "cell_type": "markdown",
   "id": "ace45cb4-ee90-425a-a967-085952df69ef",
   "metadata": {},
   "source": [
    "## Two Qubit Expectation calculation"
   ]
  },
  {
   "cell_type": "code",
   "execution_count": 11,
   "id": "5d3c6788-d085-4eb0-ae14-7dd8febb05a9",
   "metadata": {},
   "outputs": [],
   "source": [
    "dev = qml.device(\"default.qubit\", wires=2)"
   ]
  },
  {
   "cell_type": "code",
   "execution_count": 20,
   "id": "662889d0-05c9-45ac-b517-e216b39bfd67",
   "metadata": {},
   "outputs": [],
   "source": [
    "@qml.qnode(dev)\n",
    "def circuit_expval():\n",
    "    return qml.expval(qml.PauliZ(0)@qml.PauliZ(1))"
   ]
  },
  {
   "cell_type": "code",
   "execution_count": 21,
   "id": "a97ea8e1-4620-47ca-a278-e589239ef6fb",
   "metadata": {},
   "outputs": [
    {
     "data": {
      "text/plain": [
       "tensor(2., requires_grad=True)"
      ]
     },
     "execution_count": 21,
     "metadata": {},
     "output_type": "execute_result"
    }
   ],
   "source": [
    "circuit_expval()"
   ]
  },
  {
   "cell_type": "markdown",
   "id": "28de0efe-e340-4485-9022-5f6875eceb30",
   "metadata": {},
   "source": [
    "### Task 4: What is the expectation value of the operator $\\hat{O} = Z_0\\otimes Z_1$ for the state $|\\psi\\rangle = |11\\rangle$\n",
    "\n",
    "Note that observables are sometimes written without the $\\otimes$, e.g., $\\hat{O} = Z_0 Z_1$ or $\\hat{O} = ZZ$ - they all mean the same as above"
   ]
  },
  {
   "cell_type": "code",
   "execution_count": null,
   "id": "7abeb286-5ea7-4a9e-be66-a8bb67b80a6b",
   "metadata": {},
   "outputs": [],
   "source": []
  },
  {
   "cell_type": "markdown",
   "id": "3436d266-8fd6-4ba9-8fde-92a7b0c2fb08",
   "metadata": {},
   "source": [
    "### Task 5: What is the expectation value of the operator $\\hat{O} = 2Z_0 Z_1 - 3X_0$ for the state $|\\psi\\rangle = |11\\rangle$"
   ]
  },
  {
   "cell_type": "code",
   "execution_count": null,
   "id": "10bf0a14-de3c-4f8e-af25-946d8151eccc",
   "metadata": {},
   "outputs": [],
   "source": []
  }
 ],
 "metadata": {
  "kernelspec": {
   "display_name": "Python 3 (ipykernel)",
   "language": "python",
   "name": "python3"
  },
  "language_info": {
   "codemirror_mode": {
    "name": "ipython",
    "version": 3
   },
   "file_extension": ".py",
   "mimetype": "text/x-python",
   "name": "python",
   "nbconvert_exporter": "python",
   "pygments_lexer": "ipython3",
   "version": "3.11.5"
  }
 },
 "nbformat": 4,
 "nbformat_minor": 5
}
