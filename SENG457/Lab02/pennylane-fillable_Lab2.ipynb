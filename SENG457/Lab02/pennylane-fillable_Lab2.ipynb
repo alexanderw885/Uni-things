{
 "cells": [
  {
   "cell_type": "markdown",
   "id": "8911d066",
   "metadata": {},
   "source": [
    "# PennyLane Practice"
   ]
  },
  {
   "cell_type": "code",
   "execution_count": 193,
   "id": "5eb7b3b2",
   "metadata": {},
   "outputs": [],
   "source": [
    "import pennylane as qml\n",
    "from pennylane import numpy as np"
   ]
  },
  {
   "cell_type": "markdown",
   "id": "76ce9d8e",
   "metadata": {},
   "source": [
    "## Device\n",
    "Quantum circuit creation: The program creates a quantum circuit using the qml.qnode decorator and the dev device object."
   ]
  },
  {
   "cell_type": "code",
   "execution_count": 194,
   "id": "a093c5a2",
   "metadata": {},
   "outputs": [],
   "source": [
    "dev = qml.device('default.qubit', wires=1)"
   ]
  },
  {
   "cell_type": "markdown",
   "id": "e6df8ce2",
   "metadata": {},
   "source": [
    "## QNode\n",
    "The qml.qnode decorator is a function provided by PennyLane that allows you to create a quantum node. In this example, the qml.qnode decorator is used to create a quantum node called circuit. A quantum node is a Python function that represents a quantum circuit and can be executed on a quantum device. The qml.qnode decorator takes a quantum function as input and returns a new function that can be used to evaluate the quantum circuit on a specified device."
   ]
  },
  {
   "cell_type": "code",
   "execution_count": 195,
   "id": "393d2305",
   "metadata": {},
   "outputs": [],
   "source": [
    "dev = qml.device('default.qubit', wires=1, shots=None)\n",
    "\n",
    "@qml.qnode(dev)\n",
    "def circuit():\n",
    "    qml.Hadamard(wires=0)\n",
    "    # return qml.probs(wires=0)\n",
    "    return qml.state()"
   ]
  },
  {
   "cell_type": "code",
   "execution_count": 196,
   "id": "fa1c6154",
   "metadata": {},
   "outputs": [
    {
     "name": "stdout",
     "output_type": "stream",
     "text": [
      "Samples: [0.70710678+0.j 0.70710678+0.j]\n"
     ]
    }
   ],
   "source": [
    "print(\"Samples:\", circuit())"
   ]
  },
  {
   "cell_type": "markdown",
   "id": "0aff4a26-8ed9-4bf4-8618-a546e066b11d",
   "metadata": {},
   "source": [
    "## Measurements\n",
    "[https://docs.pennylane.ai/en/stable/introduction/measurements.html](https://docs.pennylane.ai/en/stable/introduction/measurements.html)"
   ]
  },
  {
   "cell_type": "markdown",
   "id": "3ea4cac8-1815-468e-8ae1-96fecb68c890",
   "metadata": {},
   "source": [
    "## Task 1: \n",
    "Create a device with one qubit, and create a QNode with the following state and return the probabilities.\n",
    "$$\n",
    "XYZ|0\\rangle\n",
    "$$"
   ]
  },
  {
   "cell_type": "code",
   "execution_count": 197,
   "id": "e58dfda2-b4f0-4568-b4ba-b68fb4728134",
   "metadata": {},
   "outputs": [],
   "source": [
    "task1 = qml.device('default.qubit', # Only qubits, no classical bits\n",
    "                    wires=1,        # Number of qubits\n",
    "                    shots=1024)     # Number of times to simulate circuit\n",
    "\n",
    "\n",
    "@qml.qnode(task1)\n",
    "def circuit():\n",
    "    qml.Z(wires=0) # does nothing in this context\n",
    "    qml.Y(wires=0)\n",
    "    qml.X(wires=0)\n",
    "    #return qml.probs(wires=0)"
   ]
  },
  {
   "cell_type": "code",
   "execution_count": 198,
   "id": "a0f19652-2d62-4ef6-9b4f-55e8e407c72e",
   "metadata": {},
   "outputs": [
    {
     "ename": "QuantumFunctionError",
     "evalue": "A quantum function must return either a single measurement, or a nonempty sequence of measurements.",
     "output_type": "error",
     "traceback": [
      "\u001b[31m---------------------------------------------------------------------------\u001b[39m",
      "\u001b[31mQuantumFunctionError\u001b[39m                      Traceback (most recent call last)",
      "\u001b[36mCell\u001b[39m\u001b[36m \u001b[39m\u001b[32mIn[198]\u001b[39m\u001b[32m, line 1\u001b[39m\n\u001b[32m----> \u001b[39m\u001b[32m1\u001b[39m \u001b[38;5;28mprint\u001b[39m(\u001b[33m\"\u001b[39m\u001b[33mProbabilities:\u001b[39m\u001b[33m\"\u001b[39m, circuit())\n",
      "\u001b[36mFile \u001b[39m\u001b[32m~/anaconda3/envs/seng457/lib/python3.13/site-packages/pennylane/workflow/qnode.py:882\u001b[39m, in \u001b[36mQNode.__call__\u001b[39m\u001b[34m(self, *args, **kwargs)\u001b[39m\n\u001b[32m    879\u001b[39m     \u001b[38;5;28;01mfrom\u001b[39;00m\u001b[38;5;250m \u001b[39m\u001b[34;01m.\u001b[39;00m\u001b[34;01m_capture_qnode\u001b[39;00m\u001b[38;5;250m \u001b[39m\u001b[38;5;28;01mimport\u001b[39;00m capture_qnode  \u001b[38;5;66;03m# pylint: disable=import-outside-toplevel\u001b[39;00m\n\u001b[32m    881\u001b[39m     \u001b[38;5;28;01mreturn\u001b[39;00m capture_qnode(\u001b[38;5;28mself\u001b[39m, *args, **kwargs)\n\u001b[32m--> \u001b[39m\u001b[32m882\u001b[39m \u001b[38;5;28;01mreturn\u001b[39;00m \u001b[38;5;28mself\u001b[39m._impl_call(*args, **kwargs)\n",
      "\u001b[36mFile \u001b[39m\u001b[32m~/anaconda3/envs/seng457/lib/python3.13/site-packages/pennylane/workflow/qnode.py:850\u001b[39m, in \u001b[36mQNode._impl_call\u001b[39m\u001b[34m(self, *args, **kwargs)\u001b[39m\n\u001b[32m    847\u001b[39m \u001b[38;5;28;01mdef\u001b[39;00m\u001b[38;5;250m \u001b[39m\u001b[34m_impl_call\u001b[39m(\u001b[38;5;28mself\u001b[39m, *args, **kwargs) -> qml.typing.Result:\n\u001b[32m    848\u001b[39m \n\u001b[32m    849\u001b[39m     \u001b[38;5;66;03m# construct the tape\u001b[39;00m\n\u001b[32m--> \u001b[39m\u001b[32m850\u001b[39m     tape = \u001b[38;5;28mself\u001b[39m.construct(args, kwargs)\n\u001b[32m    852\u001b[39m     \u001b[38;5;66;03m# Calculate the classical jacobians if necessary\u001b[39;00m\n\u001b[32m    853\u001b[39m     \u001b[38;5;28mself\u001b[39m._transform_program.set_classical_component(\u001b[38;5;28mself\u001b[39m, args, kwargs)\n",
      "\u001b[36mFile \u001b[39m\u001b[32m~/anaconda3/envs/seng457/lib/python3.13/site-packages/pennylane/logging/decorators.py:61\u001b[39m, in \u001b[36mlog_string_debug_func.<locals>.wrapper_entry\u001b[39m\u001b[34m(*args, **kwargs)\u001b[39m\n\u001b[32m     54\u001b[39m     s_caller = \u001b[33m\"\u001b[39m\u001b[33m::L\u001b[39m\u001b[33m\"\u001b[39m.join(\n\u001b[32m     55\u001b[39m         [\u001b[38;5;28mstr\u001b[39m(i) \u001b[38;5;28;01mfor\u001b[39;00m i \u001b[38;5;129;01min\u001b[39;00m inspect.getouterframes(inspect.currentframe(), \u001b[32m2\u001b[39m)[\u001b[32m1\u001b[39m][\u001b[32m1\u001b[39m:\u001b[32m3\u001b[39m]]\n\u001b[32m     56\u001b[39m     )\n\u001b[32m     57\u001b[39m     lgr.debug(\n\u001b[32m     58\u001b[39m         \u001b[33mf\u001b[39m\u001b[33m\"\u001b[39m\u001b[33mCalling \u001b[39m\u001b[38;5;132;01m{\u001b[39;00mf_string\u001b[38;5;132;01m}\u001b[39;00m\u001b[33m from \u001b[39m\u001b[38;5;132;01m{\u001b[39;00ms_caller\u001b[38;5;132;01m}\u001b[39;00m\u001b[33m\"\u001b[39m,\n\u001b[32m     59\u001b[39m         **_debug_log_kwargs,\n\u001b[32m     60\u001b[39m     )\n\u001b[32m---> \u001b[39m\u001b[32m61\u001b[39m \u001b[38;5;28;01mreturn\u001b[39;00m func(*args, **kwargs)\n",
      "\u001b[36mFile \u001b[39m\u001b[32m~/anaconda3/envs/seng457/lib/python3.13/site-packages/pennylane/workflow/qnode.py:843\u001b[39m, in \u001b[36mQNode.construct\u001b[39m\u001b[34m(self, args, kwargs)\u001b[39m\n\u001b[32m    840\u001b[39m params = tape.get_parameters(trainable_only=\u001b[38;5;28;01mFalse\u001b[39;00m)\n\u001b[32m    841\u001b[39m tape.trainable_params = qml.math.get_trainable_indices(params)\n\u001b[32m--> \u001b[39m\u001b[32m843\u001b[39m _validate_qfunc_output(\u001b[38;5;28mself\u001b[39m._qfunc_output, tape.measurements)\n\u001b[32m    844\u001b[39m \u001b[38;5;28mself\u001b[39m._tape = tape\n\u001b[32m    845\u001b[39m \u001b[38;5;28;01mreturn\u001b[39;00m tape\n",
      "\u001b[36mFile \u001b[39m\u001b[32m~/anaconda3/envs/seng457/lib/python3.13/site-packages/pennylane/workflow/qnode.py:168\u001b[39m, in \u001b[36m_validate_qfunc_output\u001b[39m\u001b[34m(qfunc_output, measurements)\u001b[39m\n\u001b[32m    159\u001b[39m         measurement_processes = [\n\u001b[32m    160\u001b[39m             m.base.item()\n\u001b[32m    161\u001b[39m             \u001b[38;5;28;01mfor\u001b[39;00m m \u001b[38;5;129;01min\u001b[39;00m measurement_processes[\u001b[32m0\u001b[39m]\n\u001b[32m    162\u001b[39m             \u001b[38;5;28;01mif\u001b[39;00m \u001b[38;5;28misinstance\u001b[39m(m.base.item(), qml.measurements.MeasurementProcess)\n\u001b[32m    163\u001b[39m         ]\n\u001b[32m    165\u001b[39m \u001b[38;5;28;01mif\u001b[39;00m \u001b[38;5;129;01mnot\u001b[39;00m measurement_processes \u001b[38;5;129;01mor\u001b[39;00m \u001b[38;5;129;01mnot\u001b[39;00m \u001b[38;5;28mall\u001b[39m(\n\u001b[32m    166\u001b[39m     \u001b[38;5;28misinstance\u001b[39m(m, qml.measurements.MeasurementProcess) \u001b[38;5;28;01mfor\u001b[39;00m m \u001b[38;5;129;01min\u001b[39;00m measurement_processes\n\u001b[32m    167\u001b[39m ):\n\u001b[32m--> \u001b[39m\u001b[32m168\u001b[39m     \u001b[38;5;28;01mraise\u001b[39;00m qml.QuantumFunctionError(\n\u001b[32m    169\u001b[39m         \u001b[33m\"\u001b[39m\u001b[33mA quantum function must return either a single measurement, \u001b[39m\u001b[33m\"\u001b[39m\n\u001b[32m    170\u001b[39m         \u001b[33m\"\u001b[39m\u001b[33mor a nonempty sequence of measurements.\u001b[39m\u001b[33m\"\u001b[39m\n\u001b[32m    171\u001b[39m     )\n\u001b[32m    173\u001b[39m terminal_measurements = [m \u001b[38;5;28;01mfor\u001b[39;00m m \u001b[38;5;129;01min\u001b[39;00m measurements \u001b[38;5;28;01mif\u001b[39;00m \u001b[38;5;129;01mnot\u001b[39;00m \u001b[38;5;28misinstance\u001b[39m(m, MidMeasureMP)]\n\u001b[32m    175\u001b[39m \u001b[38;5;28;01mif\u001b[39;00m \u001b[38;5;28many\u001b[39m(ret \u001b[38;5;129;01mis\u001b[39;00m \u001b[38;5;129;01mnot\u001b[39;00m m \u001b[38;5;28;01mfor\u001b[39;00m ret, m \u001b[38;5;129;01min\u001b[39;00m \u001b[38;5;28mzip\u001b[39m(measurement_processes, terminal_measurements)):\n",
      "\u001b[31mQuantumFunctionError\u001b[39m: A quantum function must return either a single measurement, or a nonempty sequence of measurements."
     ]
    }
   ],
   "source": [
    "print(\"Probabilities:\", circuit())"
   ]
  },
  {
   "cell_type": "markdown",
   "id": "3396500d-8b46-4b4b-85ad-cb2b8d2a3afd",
   "metadata": {},
   "source": [
    "## Task 2: \n",
    "Create a device with three qubits, and apply the Hadamard gate on all qubits and return the quantum state."
   ]
  },
  {
   "cell_type": "code",
   "execution_count": null,
   "id": "0a596cf8-ee37-48ef-b1e0-b99ab63b6067",
   "metadata": {},
   "outputs": [],
   "source": [
    "task2 = qml.device('default.qubit', wires=3,shots=1024)\n",
    "\n",
    "@qml.qnode(task2)\n",
    "def circuit():\n",
    "    qml.H(wires=[0])\n",
    "    qml.H(wires=[1])\n",
    "    qml.H(wires=[2])\n",
    "    return qml.probs(wires=[0,1,2])"
   ]
  },
  {
   "cell_type": "code",
   "execution_count": null,
   "id": "26f937ca-7caf-4eda-bf95-466861faf058",
   "metadata": {},
   "outputs": [
    {
     "name": "stdout",
     "output_type": "stream",
     "text": [
      "Probabilities: [0.12695312 0.11132812 0.109375   0.12011719 0.13574219 0.12207031\n",
      " 0.12402344 0.15039062]\n"
     ]
    }
   ],
   "source": [
    "print(\"Probabilities:\", circuit())"
   ]
  },
  {
   "cell_type": "markdown",
   "id": "8235bbff-1aa2-4109-a5c6-d53882061d09",
   "metadata": {},
   "source": [
    "## Task 3:\n",
    "Create a circuit with two qubits and prepare an entangled state:\n",
    "$$\n",
    "\\frac{|00\\rangle - |11\\rangle}{\\sqrt 2}\n",
    "$$"
   ]
  },
  {
   "cell_type": "code",
   "execution_count": null,
   "id": "526b8a4e-e086-4e0f-823d-3a757c44a740",
   "metadata": {},
   "outputs": [],
   "source": []
  },
  {
   "cell_type": "code",
   "execution_count": null,
   "id": "eb9ea357-bafd-4452-b5a2-288cc809ef12",
   "metadata": {},
   "outputs": [
    {
     "name": "stdout",
     "output_type": "stream",
     "text": [
      "Probabilities: [0.12890625 0.11914062 0.12890625 0.15136719 0.10742188 0.11230469\n",
      " 0.12597656 0.12597656]\n"
     ]
    }
   ],
   "source": [
    "print(\"Probabilities:\", circuit())"
   ]
  },
  {
   "cell_type": "markdown",
   "id": "de483cbb",
   "metadata": {},
   "source": [
    "## Built for Hybrid Quantum-Classical Computing"
   ]
  },
  {
   "cell_type": "code",
   "execution_count": null,
   "id": "099463cb",
   "metadata": {},
   "outputs": [
    {
     "name": "stdout",
     "output_type": "stream",
     "text": [
      "Optimized rotation angles: [3.14159265 0.12      ]\n"
     ]
    }
   ],
   "source": [
    "import pennylane as qml\n",
    "from pennylane import numpy as np\n",
    "\n",
    "dev = qml.device('default.qubit', wires=2)\n",
    "\n",
    "@qml.qnode(dev)\n",
    "def circuit(params):\n",
    "    qml.RX(params[0], wires=0)\n",
    "    qml.RY(params[1], wires=1)\n",
    "    qml.CNOT(wires=[0, 1])\n",
    "    return qml.expval(qml.PauliZ(0))\n",
    "\n",
    "def cost(params):\n",
    "    return circuit(params)\n",
    "\n",
    "params = np.array([0.54, 0.12])\n",
    "opt = qml.GradientDescentOptimizer(stepsize=0.4)\n",
    "\n",
    "for i in range(100):\n",
    "    params = opt.step(cost, params)\n",
    "\n",
    "print(\"Optimized rotation angles:\", params)\n"
   ]
  },
  {
   "cell_type": "code",
   "execution_count": null,
   "id": "c843f228",
   "metadata": {},
   "outputs": [],
   "source": []
  }
 ],
 "metadata": {
  "kernelspec": {
   "display_name": "Python 3 (ipykernel)",
   "language": "python",
   "name": "python3"
  },
  "language_info": {
   "codemirror_mode": {
    "name": "ipython",
    "version": 3
   },
   "file_extension": ".py",
   "mimetype": "text/x-python",
   "name": "python",
   "nbconvert_exporter": "python",
   "pygments_lexer": "ipython3",
   "version": "3.13.2"
  }
 },
 "nbformat": 4,
 "nbformat_minor": 5
}
