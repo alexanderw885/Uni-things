{
 "cells": [
  {
   "cell_type": "markdown",
   "id": "8911d066",
   "metadata": {},
   "source": [
    "# PennyLane Practice"
   ]
  },
  {
   "cell_type": "code",
   "execution_count": 2,
   "id": "5eb7b3b2",
   "metadata": {},
   "outputs": [],
   "source": [
    "import pennylane as qml\n",
    "from pennylane import numpy as np"
   ]
  },
  {
   "cell_type": "markdown",
   "id": "76ce9d8e",
   "metadata": {},
   "source": [
    "## Device\n",
    "Quantum circuit creation: The program creates a quantum circuit using the qml.qnode decorator and the dev device object."
   ]
  },
  {
   "cell_type": "code",
   "execution_count": 3,
   "id": "a093c5a2",
   "metadata": {},
   "outputs": [],
   "source": [
    "dev = qml.device('default.qubit', wires=1)"
   ]
  },
  {
   "cell_type": "markdown",
   "id": "e6df8ce2",
   "metadata": {},
   "source": [
    "## QNode\n",
    "The qml.qnode decorator is a function provided by PennyLane that allows you to create a quantum node. In this example, the qml.qnode decorator is used to create a quantum node called circuit. A quantum node is a Python function that represents a quantum circuit and can be executed on a quantum device. The qml.qnode decorator takes a quantum function as input and returns a new function that can be used to evaluate the quantum circuit on a specified device."
   ]
  },
  {
   "cell_type": "code",
   "execution_count": 4,
   "id": "393d2305",
   "metadata": {},
   "outputs": [],
   "source": [
    "dev = qml.device('default.qubit', wires=1, shots=1024)\n",
    "\n",
    "@qml.qnode(dev)\n",
    "def circuit():\n",
    "    qml.Hadamard(wires=0)\n",
    "    return qml.probs(wires=0)"
   ]
  },
  {
   "cell_type": "code",
   "execution_count": 5,
   "id": "fa1c6154",
   "metadata": {},
   "outputs": [
    {
     "name": "stdout",
     "output_type": "stream",
     "text": [
      "Probabilities: [0.50878906 0.49121094]\n"
     ]
    }
   ],
   "source": [
    "print(\"Probabilities:\", circuit())"
   ]
  },
  {
   "cell_type": "markdown",
   "id": "0aff4a26-8ed9-4bf4-8618-a546e066b11d",
   "metadata": {},
   "source": [
    "## Measurements\n",
    "[https://docs.pennylane.ai/en/stable/introduction/measurements.html](https://docs.pennylane.ai/en/stable/introduction/measurements.html)"
   ]
  },
  {
   "cell_type": "markdown",
   "id": "3ea4cac8-1815-468e-8ae1-96fecb68c890",
   "metadata": {},
   "source": [
    "## Task 1: \n",
    "Create a device with one qubit, and create a QNode with the following state and return the probabilities.\n",
    "$$\n",
    "XYZ|0\\rangle\n",
    "$$"
   ]
  },
  {
   "cell_type": "code",
   "execution_count": 7,
   "id": "e58dfda2-b4f0-4568-b4ba-b68fb4728134",
   "metadata": {},
   "outputs": [],
   "source": []
  },
  {
   "cell_type": "code",
   "execution_count": 9,
   "id": "a0f19652-2d62-4ef6-9b4f-55e8e407c72e",
   "metadata": {},
   "outputs": [
    {
     "name": "stdout",
     "output_type": "stream",
     "text": [
      "[0. 1.]\n"
     ]
    }
   ],
   "source": [
    "print(\"Probabilities:\", circuit())"
   ]
  },
  {
   "cell_type": "markdown",
   "id": "3396500d-8b46-4b4b-85ad-cb2b8d2a3afd",
   "metadata": {},
   "source": [
    "## Task 2: \n",
    "Create a device with three qubits, and apply the Hadamard gate on all qubits and return the quantum state."
   ]
  },
  {
   "cell_type": "code",
   "execution_count": 14,
   "id": "0a596cf8-ee37-48ef-b1e0-b99ab63b6067",
   "metadata": {},
   "outputs": [],
   "source": []
  },
  {
   "cell_type": "code",
   "execution_count": 15,
   "id": "26f937ca-7caf-4eda-bf95-466861faf058",
   "metadata": {},
   "outputs": [
    {
     "name": "stdout",
     "output_type": "stream",
     "text": [
      "Probabilities: [0.25 0.25 0.25 0.25]\n"
     ]
    }
   ],
   "source": [
    "print(\"Probabilities:\", circuit())"
   ]
  },
  {
   "cell_type": "markdown",
   "id": "8235bbff-1aa2-4109-a5c6-d53882061d09",
   "metadata": {},
   "source": [
    "## Task 3:\n",
    "Create a circuit with two qubits and prepare an entangled state:\n",
    "$$\n",
    "\\frac{|00\\rangle - |11\\rangle}{\\sqrt 2}\n",
    "$$"
   ]
  },
  {
   "cell_type": "code",
   "execution_count": 26,
   "id": "526b8a4e-e086-4e0f-823d-3a757c44a740",
   "metadata": {},
   "outputs": [],
   "source": []
  },
  {
   "cell_type": "code",
   "execution_count": 27,
   "id": "eb9ea357-bafd-4452-b5a2-288cc809ef12",
   "metadata": {},
   "outputs": [
    {
     "name": "stdout",
     "output_type": "stream",
     "text": [
      "Probabilities: [ 0.70710678+0.j  0.        +0.j  0.        +0.j -0.70710678+0.j]\n"
     ]
    }
   ],
   "source": [
    "print(\"Probabilities:\", circuit())"
   ]
  },
  {
   "cell_type": "markdown",
   "id": "de483cbb",
   "metadata": {},
   "source": [
    "## Built for Hybrid Quantum-Classical Computing"
   ]
  },
  {
   "cell_type": "code",
   "execution_count": 18,
   "id": "099463cb",
   "metadata": {},
   "outputs": [
    {
     "name": "stdout",
     "output_type": "stream",
     "text": [
      "Optimized rotation angles: [3.14159265 0.12      ]\n"
     ]
    }
   ],
   "source": [
    "import pennylane as qml\n",
    "from pennylane import numpy as np\n",
    "\n",
    "dev = qml.device('default.qubit', wires=2)\n",
    "\n",
    "@qml.qnode(dev)\n",
    "def circuit(params):\n",
    "    qml.RX(params[0], wires=0)\n",
    "    qml.RY(params[1], wires=1)\n",
    "    qml.CNOT(wires=[0, 1])\n",
    "    return qml.expval(qml.PauliZ(0))\n",
    "\n",
    "def cost(params):\n",
    "    return circuit(params)\n",
    "\n",
    "params = np.array([0.54, 0.12])\n",
    "opt = qml.GradientDescentOptimizer(stepsize=0.4)\n",
    "\n",
    "for i in range(100):\n",
    "    params = opt.step(cost, params)\n",
    "\n",
    "print(\"Optimized rotation angles:\", params)\n"
   ]
  },
  {
   "cell_type": "code",
   "execution_count": null,
   "id": "c843f228",
   "metadata": {},
   "outputs": [],
   "source": []
  }
 ],
 "metadata": {
  "kernelspec": {
   "display_name": "Python 3 (ipykernel)",
   "language": "python",
   "name": "python3"
  },
  "language_info": {
   "codemirror_mode": {
    "name": "ipython",
    "version": 3
   },
   "file_extension": ".py",
   "mimetype": "text/x-python",
   "name": "python",
   "nbconvert_exporter": "python",
   "pygments_lexer": "ipython3",
   "version": "3.11.5"
  }
 },
 "nbformat": 4,
 "nbformat_minor": 5
}
