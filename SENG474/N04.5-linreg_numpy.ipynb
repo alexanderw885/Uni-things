{
 "cells": [
  {
   "cell_type": "code",
   "execution_count": 1,
   "metadata": {},
   "outputs": [],
   "source": [
    "import numpy as np\n",
    "import matplotlib.pyplot as plt"
   ]
  },
  {
   "cell_type": "code",
   "execution_count": 2,
   "metadata": {},
   "outputs": [
    {
     "name": "stdout",
     "output_type": "stream",
     "text": [
      "[[1 2]\n",
      " [2 3]\n",
      " [3 4]\n",
      " [4 5]]\n",
      "[[5]\n",
      " [6]\n",
      " [7]\n",
      " [8]]\n"
     ]
    }
   ],
   "source": [
    "X = np.array([[1, 2], \n",
    "              [2, 3], \n",
    "              [3, 4],\n",
    "              [4, 5] ])\n",
    "\n",
    "y = np.array([[5],\n",
    "     [6],\n",
    "     [7],\n",
    "     [8]])\n",
    "\n",
    "print(X) \n",
    "print(y)"
   ]
  },
  {
   "cell_type": "code",
   "execution_count": 3,
   "metadata": {},
   "outputs": [
    {
     "name": "stdout",
     "output_type": "stream",
     "text": [
      "[2 3]\n",
      "[[2 3]]\n"
     ]
    }
   ],
   "source": [
    "print(X[1]) # Less good for some computations\n",
    "print(X[[1]]) # This method is better for working with matrices"
   ]
  },
  {
   "cell_type": "code",
   "execution_count": 4,
   "metadata": {},
   "outputs": [
    {
     "data": {
      "text/plain": [
       "(4, 2)"
      ]
     },
     "execution_count": 4,
     "metadata": {},
     "output_type": "execute_result"
    }
   ],
   "source": [
    "m = X.shape[0]\n",
    "n = X.shape[1]\n",
    "m,n"
   ]
  },
  {
   "cell_type": "code",
   "execution_count": 5,
   "metadata": {},
   "outputs": [
    {
     "data": {
      "text/plain": [
       "array([[1., 1., 2.],\n",
       "       [1., 2., 3.],\n",
       "       [1., 3., 4.],\n",
       "       [1., 4., 5.]])"
      ]
     },
     "execution_count": 5,
     "metadata": {},
     "output_type": "execute_result"
    }
   ],
   "source": [
    "# add dummy feature to X using scikit-learn dummy feature (sklearn.preprocessing.add_dummy_feature)\n",
    "from sklearn.preprocessing import add_dummy_feature\n",
    "\n",
    "X = add_dummy_feature(X)\n",
    "X"
   ]
  },
  {
   "cell_type": "code",
   "execution_count": 6,
   "metadata": {},
   "outputs": [],
   "source": [
    "eta = 0.1 # learning rate, another name for alpha in this case\n",
    "n_epochs = 10 # number of iterations over the training set\n",
    "\n",
    "# how do we choose n_epochs?\n",
    "# - choose very large number\n",
    "# - iterations depends on how much theta changes each iteration\n",
    "# functions take both n_epochs and tolerance, and stops once either of these methods reaches its limit"
   ]
  },
  {
   "cell_type": "code",
   "execution_count": 7,
   "metadata": {},
   "outputs": [],
   "source": [
    "def h(theta, x):\n",
    "    return x @ theta"
   ]
  },
  {
   "cell_type": "code",
   "execution_count": 8,
   "metadata": {},
   "outputs": [
    {
     "name": "stdout",
     "output_type": "stream",
     "text": [
      "[[0.1]\n",
      " [0.1]\n",
      " [0.1]]\n",
      "[[1. 1. 2.]]\n"
     ]
    },
    {
     "data": {
      "text/plain": [
       "array([[0.4]])"
      ]
     },
     "execution_count": 8,
     "metadata": {},
     "output_type": "execute_result"
    }
   ],
   "source": [
    "theta = np.array([[0.1],\n",
    "                  [0.1],\n",
    "                  [0.1]]) # three thetas, because there's 2 features and the dummy feature\n",
    "print(theta) \n",
    "print(X[[0]])\n",
    "h(theta, X[[0]])"
   ]
  },
  {
   "cell_type": "code",
   "execution_count": 9,
   "metadata": {},
   "outputs": [
    {
     "data": {
      "text/plain": [
       "array([[0.4],\n",
       "       [0.6],\n",
       "       [0.8],\n",
       "       [1. ]])"
      ]
     },
     "execution_count": 9,
     "metadata": {},
     "output_type": "execute_result"
    }
   ],
   "source": [
    "# how about the whole training set?\n",
    "h(theta, X) # applies to whole matrix at once because numpy is cool"
   ]
  },
  {
   "cell_type": "code",
   "execution_count": 10,
   "metadata": {},
   "outputs": [],
   "source": [
    "def J(theta, X, y): # Not too important for regression, but can be used to graph error\n",
    "    return 1/(2*m) * np.sum( (h(theta,X) - y)**2 )"
   ]
  },
  {
   "cell_type": "code",
   "execution_count": 11,
   "metadata": {},
   "outputs": [
    {
     "data": {
      "text/plain": [
       "np.float64(17.22)"
      ]
     },
     "execution_count": 11,
     "metadata": {},
     "output_type": "execute_result"
    }
   ],
   "source": [
    "J(theta, X, y)"
   ]
  },
  {
   "cell_type": "code",
   "execution_count": 12,
   "metadata": {},
   "outputs": [],
   "source": [
    "def G(theta, X, y):\n",
    "    return 1/m * X.T @ (h(theta,X) - y)"
   ]
  },
  {
   "cell_type": "code",
   "execution_count": 13,
   "metadata": {},
   "outputs": [
    {
     "name": "stdout",
     "output_type": "stream",
     "text": [
      "[[0.36293057]\n",
      " [0.7352551 ]\n",
      " [0.99818567]]\n"
     ]
    },
    {
     "data": {
      "image/png": "[encoded data removed]",
      "text/plain": [
       "<Figure size 640x480 with 1 Axes>"
      ]
     },
     "metadata": {},
     "output_type": "display_data"
    }
   ],
   "source": [
    "eta = 0.01 # learning rate\n",
    "n_epochs = 10\n",
    "theta = np.array([[0.1],\n",
    "                  [0.1],\n",
    "                  [0.1]])\n",
    "\n",
    "E = [J(theta, X, y)] # errors (costs) list\n",
    "\n",
    "for epoch in range(n_epochs):\n",
    "  theta -= eta * G(theta, X, y)\n",
    "  E.append( J(theta, X, y) )\n",
    "\n",
    "# plot error vs epoch\n",
    "plt.plot(E)\n",
    "\n",
    "# print final theta\n",
    "print(theta)"
   ]
  },
  {
   "cell_type": "code",
   "execution_count": 14,
   "metadata": {},
   "outputs": [],
   "source": [
    "# stochastic gradient, we only use one training sample to calculate the gradient\n",
    "# the benefit is that we don't calculate the gradient using the whole training set\n",
    "# the downside is that the gradient is noisy and might not always point in the right direction\n",
    "# still, it's a great way to make progress when the training set is large\n",
    "\n",
    "def G_stochastic(theta, X, y):\n",
    "    # pick a random training sample\n",
    "    i = np.random.randint(m)\n",
    "    return G(theta, X[[i]], y[[i]])"
   ]
  },
  {
   "cell_type": "code",
   "execution_count": 15,
   "metadata": {},
   "outputs": [
    {
     "name": "stdout",
     "output_type": "stream",
     "text": [
      "[[0.2175985 ]\n",
      " [0.4357498 ]\n",
      " [0.55334829]]\n"
     ]
    },
    {
     "data": {
      "image/png": "[encoded data removed]",
      "text/plain": [
       "<Figure size 640x480 with 1 Axes>"
      ]
     },
     "metadata": {},
     "output_type": "display_data"
    }
   ],
   "source": [
    "# this is the same as before, but we use G_stochastic instead of G\n",
    "# cost will be more noisy, but we should still make progress\n",
    "\n",
    "eta = 0.01 # learning rate\n",
    "n_epochs = 10\n",
    "theta = np.array([[0.1],\n",
    "                  [0.1],\n",
    "                  [0.1]])\n",
    "\n",
    "E = [J(theta, X, y)] # errors (costs) list\n",
    "\n",
    "for epoch in range(n_epochs):\n",
    "  theta -= eta * G_stochastic(theta, X, y)\n",
    "  E.append( J(theta, X, y) )\n",
    "\n",
    "# plot error vs epoch\n",
    "plt.plot(E)\n",
    "\n",
    "# print final theta\n",
    "print(theta)"
   ]
  }
 ],
 "metadata": {
  "kernelspec": {
   "display_name": "base",
   "language": "python",
   "name": "python3"
  },
  "language_info": {
   "codemirror_mode": {
    "name": "ipython",
    "version": 3
   },
   "file_extension": ".py",
   "mimetype": "text/x-python",
   "name": "python",
   "nbconvert_exporter": "python",
   "pygments_lexer": "ipython3",
   "version": "3.12.3"
  }
 },
 "nbformat": 4,
 "nbformat_minor": 2
}
