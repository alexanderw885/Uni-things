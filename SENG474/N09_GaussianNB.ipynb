{
 "cells": [
  {
   "cell_type": "code",
   "execution_count": 1,
   "metadata": {},
   "outputs": [
    {
     "name": "stdout",
     "output_type": "stream",
     "text": [
      "Model Accuracy: 66.67%\n",
      "Don't Play Tennis\n"
     ]
    }
   ],
   "source": [
    "from sklearn.naive_bayes import GaussianNB\n",
    "from sklearn.model_selection import train_test_split\n",
    "from sklearn.metrics import accuracy_score\n",
    "\n",
    "# Some Weather Dataset (Temperature, Humidity, Windy) - 1 = True, 0 = False\n",
    "X = [\n",
    "    [30, 85, 1],  # Hot, Humid, Windy\n",
    "    [25, 90, 0],  # Warm, Humid, Not Windy\n",
    "    [28, 70, 1],  # Warm, Normal Humidity, Windy\n",
    "    [20, 60, 0],  # Cool, Normal Humidity, Not Windy\n",
    "    [18, 65, 1],  # Cool, Normal Humidity, Windy\n",
    "    [35, 95, 0],  # Hot, Very Humid, Not Windy\n",
    "    [22, 75, 1],  # Mild, Humid, Windy\n",
    "    [21, 80, 0],  # Mild, Humid, Not Windy\n",
    "    [19, 68, 1],  # Cool, Normal Humidity, Windy\n",
    "    [24, 85, 0],  # Warm, Humid, Not Windy\n",
    "    [33, 80, 1],  # Hot, Normal Humidity, Windy\n",
    "    [16, 55, 0],  # Cool, Dry, Not Windy\n",
    "    [27, 88, 1],  # Warm, Humid, Windy\n",
    "    [29, 92, 0],  # Hot, Humid, Not Windy\n",
    "    [23, 78, 0],  # Mild, Normal Humidity, Not Windy\n",
    "]\n",
    "\n",
    "# Play Tennis (Target: 1 = Yes, 0 = No)\n",
    "y = [0, 0, 1, 1, 1, 0, 1, 0, 1, 1, 0, 1, 0, 0, 1]\n",
    "\n",
    "# Split dataset into training and testing sets (80% train, 20% test)\n",
    "X_train, X_test, y_train, y_test = train_test_split(X, y, test_size=0.2, random_state=42)\n",
    "\n",
    "# Initialize and train Gaussian Naive Bayes model\n",
    "model = GaussianNB()\n",
    "model.fit(X_train, y_train)\n",
    "\n",
    "# Make predictions\n",
    "y_pred = model.predict(X_test)\n",
    "\n",
    "# Evaluate accuracy\n",
    "accuracy = accuracy_score(y_test, y_pred)\n",
    "print(f\"Model Accuracy: {accuracy * 100:.2f}%\")\n",
    "\n",
    "# Predict a new case: Hot day (32°C), Humid (80%), Not Windy\n",
    "new_data = [[32, 80, 0]]\n",
    "prediction = model.predict(new_data)\n",
    "print(\"Play Tennis?\" if prediction[0] == 1 else \"Don't Play Tennis\")\n"
   ]
  }
 ],
 "metadata": {
  "kernelspec": {
   "display_name": "base",
   "language": "python",
   "name": "python3"
  },
  "language_info": {
   "codemirror_mode": {
    "name": "ipython",
    "version": 3
   },
   "file_extension": ".py",
   "mimetype": "text/x-python",
   "name": "python",
   "nbconvert_exporter": "python",
   "pygments_lexer": "ipython3",
   "version": "3.9.13"
  }
 },
 "nbformat": 4,
 "nbformat_minor": 2
}
